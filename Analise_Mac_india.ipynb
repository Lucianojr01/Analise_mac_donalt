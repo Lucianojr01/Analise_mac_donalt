{
 "cells": [
  {
   "cell_type": "markdown",
   "metadata": {},
   "source": [
    "<h3>Machine Learning usando clusterização agrupando alimentos por baixa, media e alta caloria</h3>\n",
    "<h5>base de dados : mcdonald's india<br><br>\n",
    " <span style=\"font-size: 60px;\">.</span>Utilizando os dados do dataset, documentado no arquivo India_Menu.csv<br>\n",
    " <span style=\"font-size: 60px;\">.</span>temos o objetivo de agrupar os itens do cardapio em grupos de baixa , media e alta calorias<br>\n",
    " <span style=\"font-size: 60px;\">.</span>e criar um codigo aonde os clientes poderao escolher seu pedido baseado no grupo de categorias <br>\n",
    " <span style=\"font-size: 60px;\">.</span>escolhendo a opçao de menu e nesse menu se ele quer itens de baixa media ou alta calorias como opçao<br> <span style=\"font-size: 60px;\">.</span>assim podendo optar por\n",
    " um lanche de baixa caloria se estiver de dieta e alta caloria se tiver com muita fome </h5>\n",
    "\n"
   ]
  },
  {
   "cell_type": "code",
   "execution_count": 1,
   "id": "f8b77db6-9595-4efe-9bd9-aae84918f30d",
   "metadata": {},
   "outputs": [],
   "source": [
    "#importando as bibliotecas \n",
    "import pandas as pd\n",
    "import numpy as np\n",
    "import seaborn as sns\n",
    "import matplotlib.pyplot as plt\n",
    "import plotly.express as px\n",
    "import plotly.graph_objects as go\n",
    "from plotly.subplots import make_subplots\n",
    "import warnings\n",
    "warnings.filterwarnings('ignore')\n",
    "from  dash_bootstrap_templates  import  ThemeSwitchAIO\n",
    "templates = [\n",
    "    \"lux\",\n",
    "    \"cyborg\",\n",
    "    \"vapor\",\n",
    "    \"zephyr\",\n",
    "    \"superhero\"\n",
    "    \"simplex\"\n",
    "]\n",
    "\n",
    "ThemeSwitchAIO(templates)\n",
    "pd.options.display.max_rows = 141\n",
    "\n"
   ]
  },
  {
   "cell_type": "code",
   "execution_count": 2,
   "id": "539f13e5-8d04-448a-b722-e1ec8f6322f2",
   "metadata": {},
   "outputs": [],
   "source": [
    "#abrindo o arquivo da nossa base de dados\n",
    "tabela = pd.read_csv(\"India_Menu.csv\")"
   ]
  },
  {
   "cell_type": "code",
   "execution_count": 3,
   "id": "6153e1c2-4069-4de1-9347-79ada9de92d9",
   "metadata": {},
   "outputs": [
    {
     "name": "stdout",
     "output_type": "stream",
     "text": [
      "<class 'pandas.core.frame.DataFrame'>\n",
      "RangeIndex: 141 entries, 0 to 140\n",
      "Data columns (total 13 columns):\n",
      " #   Column                  Non-Null Count  Dtype  \n",
      "---  ------                  --------------  -----  \n",
      " 0   Menu Category           141 non-null    object \n",
      " 1   Menu Items              141 non-null    object \n",
      " 2   Per Serve Size          141 non-null    object \n",
      " 3   Energy (kCal)           141 non-null    float64\n",
      " 4   Protein (g)             141 non-null    float64\n",
      " 5   Total fat (g)           141 non-null    float64\n",
      " 6   Sat Fat (g)             141 non-null    float64\n",
      " 7   Trans fat (g)           141 non-null    float64\n",
      " 8   Cholesterols (mg)       141 non-null    float64\n",
      " 9   Total carbohydrate (g)  141 non-null    float64\n",
      " 10  Total Sugars (g)        141 non-null    float64\n",
      " 11  Added Sugars (g)        141 non-null    float64\n",
      " 12  Sodium (mg)             140 non-null    float64\n",
      "dtypes: float64(10), object(3)\n",
      "memory usage: 14.4+ KB\n"
     ]
    }
   ],
   "source": [
    "#saber qual tipo das nossas variaveis e se existe valores faltantes \n",
    "tabela.info()"
   ]
  },
  {
   "cell_type": "code",
   "execution_count": 4,
   "id": "e813798d",
   "metadata": {
    "scrolled": true
   },
   "outputs": [
    {
     "data": {
      "text/plain": [
       "Menu Category               7\n",
       "Menu Items                141\n",
       "Per Serve Size            107\n",
       "Energy (kCal)             139\n",
       "Protein (g)               117\n",
       "Total fat (g)             111\n",
       "Sat Fat (g)               107\n",
       "Trans fat (g)              41\n",
       "Cholesterols (mg)         113\n",
       "Total carbohydrate (g)    133\n",
       "Total Sugars (g)          125\n",
       "Added Sugars (g)           79\n",
       "Sodium (mg)               139\n",
       "dtype: int64"
      ]
     },
     "execution_count": 4,
     "metadata": {},
     "output_type": "execute_result"
    }
   ],
   "source": [
    "#exibir os valores unicos das nossas variaveis temos 7 opcoes de menu principal e 141 items diferentes no cardapio\n",
    "tabela.nunique()"
   ]
  },
  {
   "cell_type": "code",
   "execution_count": 5,
   "id": "fe65fb1d",
   "metadata": {},
   "outputs": [
    {
     "data": {
      "text/html": [
       "<div>\n",
       "<style scoped>\n",
       "    .dataframe tbody tr th:only-of-type {\n",
       "        vertical-align: middle;\n",
       "    }\n",
       "\n",
       "    .dataframe tbody tr th {\n",
       "        vertical-align: top;\n",
       "    }\n",
       "\n",
       "    .dataframe thead th {\n",
       "        text-align: right;\n",
       "    }\n",
       "</style>\n",
       "<table border=\"1\" class=\"dataframe\">\n",
       "  <thead>\n",
       "    <tr style=\"text-align: right;\">\n",
       "      <th></th>\n",
       "      <th>Menu Category</th>\n",
       "      <th>Menu Items</th>\n",
       "      <th>Per Serve Size</th>\n",
       "      <th>Energy (kCal)</th>\n",
       "      <th>Protein (g)</th>\n",
       "      <th>Total fat (g)</th>\n",
       "      <th>Sat Fat (g)</th>\n",
       "      <th>Trans fat (g)</th>\n",
       "      <th>Cholesterols (mg)</th>\n",
       "      <th>Total carbohydrate (g)</th>\n",
       "      <th>Total Sugars (g)</th>\n",
       "      <th>Added Sugars (g)</th>\n",
       "      <th>Sodium (mg)</th>\n",
       "    </tr>\n",
       "  </thead>\n",
       "  <tbody>\n",
       "    <tr>\n",
       "      <th>count</th>\n",
       "      <td>141</td>\n",
       "      <td>141</td>\n",
       "      <td>141</td>\n",
       "      <td>141.000000</td>\n",
       "      <td>141.000000</td>\n",
       "      <td>141.000000</td>\n",
       "      <td>141.000000</td>\n",
       "      <td>141.000000</td>\n",
       "      <td>141.000000</td>\n",
       "      <td>141.000000</td>\n",
       "      <td>141.000000</td>\n",
       "      <td>141.000000</td>\n",
       "      <td>140.000000</td>\n",
       "    </tr>\n",
       "    <tr>\n",
       "      <th>unique</th>\n",
       "      <td>7</td>\n",
       "      <td>141</td>\n",
       "      <td>107</td>\n",
       "      <td>NaN</td>\n",
       "      <td>NaN</td>\n",
       "      <td>NaN</td>\n",
       "      <td>NaN</td>\n",
       "      <td>NaN</td>\n",
       "      <td>NaN</td>\n",
       "      <td>NaN</td>\n",
       "      <td>NaN</td>\n",
       "      <td>NaN</td>\n",
       "      <td>NaN</td>\n",
       "    </tr>\n",
       "    <tr>\n",
       "      <th>top</th>\n",
       "      <td>McCafe Menu</td>\n",
       "      <td>McVeggie™ Burger</td>\n",
       "      <td>299 ml</td>\n",
       "      <td>NaN</td>\n",
       "      <td>NaN</td>\n",
       "      <td>NaN</td>\n",
       "      <td>NaN</td>\n",
       "      <td>NaN</td>\n",
       "      <td>NaN</td>\n",
       "      <td>NaN</td>\n",
       "      <td>NaN</td>\n",
       "      <td>NaN</td>\n",
       "      <td>NaN</td>\n",
       "    </tr>\n",
       "    <tr>\n",
       "      <th>freq</th>\n",
       "      <td>51</td>\n",
       "      <td>1</td>\n",
       "      <td>4</td>\n",
       "      <td>NaN</td>\n",
       "      <td>NaN</td>\n",
       "      <td>NaN</td>\n",
       "      <td>NaN</td>\n",
       "      <td>NaN</td>\n",
       "      <td>NaN</td>\n",
       "      <td>NaN</td>\n",
       "      <td>NaN</td>\n",
       "      <td>NaN</td>\n",
       "      <td>NaN</td>\n",
       "    </tr>\n",
       "    <tr>\n",
       "      <th>mean</th>\n",
       "      <td>NaN</td>\n",
       "      <td>NaN</td>\n",
       "      <td>NaN</td>\n",
       "      <td>244.635461</td>\n",
       "      <td>7.493546</td>\n",
       "      <td>9.991702</td>\n",
       "      <td>4.997589</td>\n",
       "      <td>0.687163</td>\n",
       "      <td>26.350071</td>\n",
       "      <td>31.190284</td>\n",
       "      <td>15.464894</td>\n",
       "      <td>10.336950</td>\n",
       "      <td>362.064143</td>\n",
       "    </tr>\n",
       "    <tr>\n",
       "      <th>std</th>\n",
       "      <td>NaN</td>\n",
       "      <td>NaN</td>\n",
       "      <td>NaN</td>\n",
       "      <td>185.554837</td>\n",
       "      <td>8.336863</td>\n",
       "      <td>10.339511</td>\n",
       "      <td>4.900451</td>\n",
       "      <td>6.326136</td>\n",
       "      <td>50.334200</td>\n",
       "      <td>20.602044</td>\n",
       "      <td>15.690202</td>\n",
       "      <td>14.283388</td>\n",
       "      <td>473.160490</td>\n",
       "    </tr>\n",
       "    <tr>\n",
       "      <th>min</th>\n",
       "      <td>NaN</td>\n",
       "      <td>NaN</td>\n",
       "      <td>NaN</td>\n",
       "      <td>0.000000</td>\n",
       "      <td>0.000000</td>\n",
       "      <td>0.000000</td>\n",
       "      <td>0.000000</td>\n",
       "      <td>0.000000</td>\n",
       "      <td>0.000000</td>\n",
       "      <td>0.000000</td>\n",
       "      <td>0.000000</td>\n",
       "      <td>0.000000</td>\n",
       "      <td>0.000000</td>\n",
       "    </tr>\n",
       "    <tr>\n",
       "      <th>25%</th>\n",
       "      <td>NaN</td>\n",
       "      <td>NaN</td>\n",
       "      <td>NaN</td>\n",
       "      <td>116.360000</td>\n",
       "      <td>0.650000</td>\n",
       "      <td>0.460000</td>\n",
       "      <td>0.280000</td>\n",
       "      <td>0.060000</td>\n",
       "      <td>1.510000</td>\n",
       "      <td>15.740000</td>\n",
       "      <td>2.330000</td>\n",
       "      <td>0.000000</td>\n",
       "      <td>43.895000</td>\n",
       "    </tr>\n",
       "    <tr>\n",
       "      <th>50%</th>\n",
       "      <td>NaN</td>\n",
       "      <td>NaN</td>\n",
       "      <td>NaN</td>\n",
       "      <td>219.360000</td>\n",
       "      <td>4.790000</td>\n",
       "      <td>7.770000</td>\n",
       "      <td>4.270000</td>\n",
       "      <td>0.150000</td>\n",
       "      <td>8.390000</td>\n",
       "      <td>30.820000</td>\n",
       "      <td>9.160000</td>\n",
       "      <td>3.640000</td>\n",
       "      <td>152.025000</td>\n",
       "    </tr>\n",
       "    <tr>\n",
       "      <th>75%</th>\n",
       "      <td>NaN</td>\n",
       "      <td>NaN</td>\n",
       "      <td>NaN</td>\n",
       "      <td>339.520000</td>\n",
       "      <td>10.880000</td>\n",
       "      <td>14.160000</td>\n",
       "      <td>7.280000</td>\n",
       "      <td>0.220000</td>\n",
       "      <td>31.110000</td>\n",
       "      <td>46.000000</td>\n",
       "      <td>26.950000</td>\n",
       "      <td>19.230000</td>\n",
       "      <td>534.240000</td>\n",
       "    </tr>\n",
       "    <tr>\n",
       "      <th>max</th>\n",
       "      <td>NaN</td>\n",
       "      <td>NaN</td>\n",
       "      <td>NaN</td>\n",
       "      <td>834.360000</td>\n",
       "      <td>39.470000</td>\n",
       "      <td>45.180000</td>\n",
       "      <td>20.460000</td>\n",
       "      <td>75.260000</td>\n",
       "      <td>302.610000</td>\n",
       "      <td>93.840000</td>\n",
       "      <td>64.220000</td>\n",
       "      <td>64.220000</td>\n",
       "      <td>2399.490000</td>\n",
       "    </tr>\n",
       "  </tbody>\n",
       "</table>\n",
       "</div>"
      ],
      "text/plain": [
       "       Menu Category        Menu Items Per Serve Size  Energy (kCal)  \\\n",
       "count            141               141            141     141.000000   \n",
       "unique             7               141            107            NaN   \n",
       "top      McCafe Menu  McVeggie™ Burger         299 ml            NaN   \n",
       "freq              51                 1              4            NaN   \n",
       "mean             NaN               NaN            NaN     244.635461   \n",
       "std              NaN               NaN            NaN     185.554837   \n",
       "min              NaN               NaN            NaN       0.000000   \n",
       "25%              NaN               NaN            NaN     116.360000   \n",
       "50%              NaN               NaN            NaN     219.360000   \n",
       "75%              NaN               NaN            NaN     339.520000   \n",
       "max              NaN               NaN            NaN     834.360000   \n",
       "\n",
       "        Protein (g)  Total fat (g)  Sat Fat (g)  Trans fat (g)  \\\n",
       "count    141.000000     141.000000   141.000000     141.000000   \n",
       "unique          NaN            NaN          NaN            NaN   \n",
       "top             NaN            NaN          NaN            NaN   \n",
       "freq            NaN            NaN          NaN            NaN   \n",
       "mean       7.493546       9.991702     4.997589       0.687163   \n",
       "std        8.336863      10.339511     4.900451       6.326136   \n",
       "min        0.000000       0.000000     0.000000       0.000000   \n",
       "25%        0.650000       0.460000     0.280000       0.060000   \n",
       "50%        4.790000       7.770000     4.270000       0.150000   \n",
       "75%       10.880000      14.160000     7.280000       0.220000   \n",
       "max       39.470000      45.180000    20.460000      75.260000   \n",
       "\n",
       "        Cholesterols (mg)  Total carbohydrate (g)  Total Sugars (g)  \\\n",
       "count          141.000000              141.000000        141.000000   \n",
       "unique                NaN                     NaN               NaN   \n",
       "top                   NaN                     NaN               NaN   \n",
       "freq                  NaN                     NaN               NaN   \n",
       "mean            26.350071               31.190284         15.464894   \n",
       "std             50.334200               20.602044         15.690202   \n",
       "min              0.000000                0.000000          0.000000   \n",
       "25%              1.510000               15.740000          2.330000   \n",
       "50%              8.390000               30.820000          9.160000   \n",
       "75%             31.110000               46.000000         26.950000   \n",
       "max            302.610000               93.840000         64.220000   \n",
       "\n",
       "        Added Sugars (g)  Sodium (mg)  \n",
       "count         141.000000   140.000000  \n",
       "unique               NaN          NaN  \n",
       "top                  NaN          NaN  \n",
       "freq                 NaN          NaN  \n",
       "mean           10.336950   362.064143  \n",
       "std            14.283388   473.160490  \n",
       "min             0.000000     0.000000  \n",
       "25%             0.000000    43.895000  \n",
       "50%             3.640000   152.025000  \n",
       "75%            19.230000   534.240000  \n",
       "max            64.220000  2399.490000  "
      ]
     },
     "execution_count": 5,
     "metadata": {},
     "output_type": "execute_result"
    }
   ],
   "source": [
    "#gerar uma estatistica resumida da base de dados \n",
    "tabela.describe(include='all')"
   ]
  },
  {
   "cell_type": "code",
   "execution_count": 6,
   "metadata": {},
   "outputs": [
    {
     "data": {
      "text/plain": [
       "Menu Category             0\n",
       "Menu Items                0\n",
       "Per Serve Size            0\n",
       "Energy (kCal)             0\n",
       "Protein (g)               0\n",
       "Total fat (g)             0\n",
       "Sat Fat (g)               0\n",
       "Trans fat (g)             0\n",
       "Cholesterols (mg)         0\n",
       "Total carbohydrate (g)    0\n",
       "Total Sugars (g)          0\n",
       "Added Sugars (g)          0\n",
       "Sodium (mg)               1\n",
       "dtype: int64"
      ]
     },
     "metadata": {},
     "output_type": "display_data"
    },
    {
     "data": {
      "text/plain": [
       "Menu Category                                  Gourmet Menu\n",
       "Menu Items                Piri piri Mc Spicy Chicken Burger\n",
       "Per Serve Size                                        228 g\n",
       "Energy (kCal)                                         443.4\n",
       "Protein (g)                                           25.63\n",
       "Total fat (g)                                          17.3\n",
       "Sat Fat (g)                                            4.01\n",
       "Trans fat (g)                                          0.19\n",
       "Cholesterols (mg)                                     64.19\n",
       "Total carbohydrate (g)                                43.29\n",
       "Total Sugars (g)                                       9.29\n",
       "Added Sugars (g)                                       6.32\n",
       "Sodium (mg)                                         1267.88\n",
       "Name: 111, dtype: object"
      ]
     },
     "metadata": {},
     "output_type": "display_data"
    }
   ],
   "source": [
    "# sodium contem um valor invalido lanche do menu gourmet por essa categoria ter valores de sodium muito alto\n",
    "# optei por mudar o valor nun pela media dos lanches do menu gourmet trocando o valor nun pelo valor 1267.88\n",
    "display(tabela.isna().sum())\n",
    "\n",
    "media = tabela[tabela['Menu Category'] == 'Gourmet Menu' ].mean()\n",
    "\n",
    "tabela['Sodium (mg)'].fillna(media['Sodium (mg)'], inplace=True)\n",
    "\n",
    "display(tabela.loc[111])"
   ]
  },
  {
   "cell_type": "code",
   "execution_count": 7,
   "metadata": {},
   "outputs": [
    {
     "data": {
      "text/html": [
       "<div>\n",
       "<style scoped>\n",
       "    .dataframe tbody tr th:only-of-type {\n",
       "        vertical-align: middle;\n",
       "    }\n",
       "\n",
       "    .dataframe tbody tr th {\n",
       "        vertical-align: top;\n",
       "    }\n",
       "\n",
       "    .dataframe thead th {\n",
       "        text-align: right;\n",
       "    }\n",
       "</style>\n",
       "<table border=\"1\" class=\"dataframe\">\n",
       "  <thead>\n",
       "    <tr style=\"text-align: right;\">\n",
       "      <th></th>\n",
       "      <th>Menu Category</th>\n",
       "      <th>Menu Items</th>\n",
       "      <th>Per Serve Size</th>\n",
       "      <th>Energy (kCal)</th>\n",
       "      <th>Protein (g)</th>\n",
       "      <th>Total fat (g)</th>\n",
       "      <th>Sat Fat (g)</th>\n",
       "      <th>Trans fat (g)</th>\n",
       "      <th>Cholesterols (mg)</th>\n",
       "      <th>Total carbohydrate (g)</th>\n",
       "      <th>Total Sugars (g)</th>\n",
       "      <th>Added Sugars (g)</th>\n",
       "      <th>Sodium (mg)</th>\n",
       "    </tr>\n",
       "  </thead>\n",
       "  <tbody>\n",
       "    <tr>\n",
       "      <th>0</th>\n",
       "      <td>Regular Menu</td>\n",
       "      <td>McVeggie™ Burger</td>\n",
       "      <td>168 g</td>\n",
       "      <td>402</td>\n",
       "      <td>10.24</td>\n",
       "      <td>13.83</td>\n",
       "      <td>5.34</td>\n",
       "      <td>0.16</td>\n",
       "      <td>2.49</td>\n",
       "      <td>56</td>\n",
       "      <td>7.9</td>\n",
       "      <td>4.49</td>\n",
       "      <td>706</td>\n",
       "    </tr>\n",
       "  </tbody>\n",
       "</table>\n",
       "</div>"
      ],
      "text/plain": [
       "  Menu Category        Menu Items Per Serve Size  Energy (kCal)  Protein (g)  \\\n",
       "0  Regular Menu  McVeggie™ Burger          168 g            402        10.24   \n",
       "\n",
       "   Total fat (g)  Sat Fat (g)  Trans fat (g)  Cholesterols (mg)  \\\n",
       "0          13.83         5.34           0.16               2.49   \n",
       "\n",
       "   Total carbohydrate (g)  Total Sugars (g)  Added Sugars (g)  Sodium (mg)  \n",
       "0                      56               7.9              4.49          706  "
      ]
     },
     "execution_count": 7,
     "metadata": {},
     "output_type": "execute_result"
    }
   ],
   "source": [
    "# mudei o formato das colunas 'Energy (kCal)','Sodium (mg)','Total carbohydrate (g)' para formato int valores inteiro \n",
    "# para melhorar a visualizaçao dos dados nao alterei as outras coluna pos os valores sao muito pequenos\n",
    "# arredondar eles pra cima colocando em int poderia atrapalhar a analise \n",
    "tabela['Energy (kCal)'] = tabela['Energy (kCal)'].astype(int)\n",
    "tabela['Sodium (mg)'] = tabela['Sodium (mg)'].astype(int)\n",
    "tabela['Total carbohydrate (g)'] = tabela['Total carbohydrate (g)'].astype(int)\n",
    "tabela.head(1)"
   ]
  },
  {
   "cell_type": "code",
   "execution_count": 8,
   "metadata": {},
   "outputs": [
    {
     "data": {
      "image/png": "[encoded data removed]"
     },
     "metadata": {},
     "output_type": "display_data"
    }
   ],
   "source": [
    "# grafico para saber como os dados estao distribuidos grande maioria esta situado entre 0 e 300 calorias \n",
    "fig = px.histogram(tabela, x='Energy (kCal)',width=1200)\n",
    "fig.show('png')"
   ]
  },
  {
   "cell_type": "code",
   "execution_count": 9,
   "id": "d502b57e",
   "metadata": {},
   "outputs": [
    {
     "data": {
      "image/png": "[encoded data removed]",
      "text/plain": [
       "<Figure size 1300x800 with 2 Axes>"
      ]
     },
     "metadata": {},
     "output_type": "display_data"
    }
   ],
   "source": [
    "#grafico de corelaçao\n",
    "corr = tabela.drop(['Menu Category', 'Menu Items'], axis=1).corr() # examinando as correlaçoes\n",
    "plt.figure(figsize=(13, 8))\n",
    "\n",
    "sns.heatmap(corr[(corr >= 0.1) | (corr <= -0.1)], cmap='viridis', vmax=1.0, vmin=-1.0, linewidths=0.1,annot=True, annot_kws={\"size\": 8}, square=True);"
   ]
  },
  {
   "cell_type": "code",
   "execution_count": 10,
   "id": "054925f2",
   "metadata": {},
   "outputs": [
    {
     "data": {
      "text/html": [
       "<div>\n",
       "<style scoped>\n",
       "    .dataframe tbody tr th:only-of-type {\n",
       "        vertical-align: middle;\n",
       "    }\n",
       "\n",
       "    .dataframe tbody tr th {\n",
       "        vertical-align: top;\n",
       "    }\n",
       "\n",
       "    .dataframe thead th {\n",
       "        text-align: right;\n",
       "    }\n",
       "</style>\n",
       "<table border=\"1\" class=\"dataframe\">\n",
       "  <thead>\n",
       "    <tr style=\"text-align: right;\">\n",
       "      <th></th>\n",
       "      <th>Energy (kCal)</th>\n",
       "      <th>Protein (g)</th>\n",
       "    </tr>\n",
       "    <tr>\n",
       "      <th>Menu Category</th>\n",
       "      <th></th>\n",
       "      <th></th>\n",
       "    </tr>\n",
       "  </thead>\n",
       "  <tbody>\n",
       "    <tr>\n",
       "      <th>Beverages Menu</th>\n",
       "      <td>2428</td>\n",
       "      <td>4.56</td>\n",
       "    </tr>\n",
       "    <tr>\n",
       "      <th>Breakfast Menu</th>\n",
       "      <td>2711</td>\n",
       "      <td>114.55</td>\n",
       "    </tr>\n",
       "    <tr>\n",
       "      <th>Condiments Menu</th>\n",
       "      <td>425</td>\n",
       "      <td>6.58</td>\n",
       "    </tr>\n",
       "    <tr>\n",
       "      <th>Desserts Menu</th>\n",
       "      <td>325</td>\n",
       "      <td>5.63</td>\n",
       "    </tr>\n",
       "    <tr>\n",
       "      <th>Gourmet Menu</th>\n",
       "      <td>5973</td>\n",
       "      <td>238.53</td>\n",
       "    </tr>\n",
       "    <tr>\n",
       "      <th>McCafe Menu</th>\n",
       "      <td>9342</td>\n",
       "      <td>219.07</td>\n",
       "    </tr>\n",
       "    <tr>\n",
       "      <th>Regular Menu</th>\n",
       "      <td>13220</td>\n",
       "      <td>467.67</td>\n",
       "    </tr>\n",
       "  </tbody>\n",
       "</table>\n",
       "</div>"
      ],
      "text/plain": [
       "                 Energy (kCal)  Protein (g)\n",
       "Menu Category                              \n",
       "Beverages Menu            2428         4.56\n",
       "Breakfast Menu            2711       114.55\n",
       "Condiments Menu            425         6.58\n",
       "Desserts Menu              325         5.63\n",
       "Gourmet Menu              5973       238.53\n",
       "McCafe Menu               9342       219.07\n",
       "Regular Menu             13220       467.67"
      ]
     },
     "execution_count": 10,
     "metadata": {},
     "output_type": "execute_result"
    }
   ],
   "source": [
    "# criando uma tabela dinamica que retorna a soma de calorias e proteina de todos os itens de cada menu\n",
    "# focando na relacao calorias x proteina temos Breakfast Menu que entrega bastante proteina e pouca calorias \n",
    "# ja Beverages Menu entrega muita calorias e quase nada de proteina \n",
    "tabela_filtrada = tabela.get(['Menu Category','Energy (kCal)','Protein (g)'])\n",
    "\n",
    "pivot_table = tabela_filtrada.pivot_table(values=['Energy (kCal)','Protein (g)'], index='Menu Category', aggfunc=sum)\n",
    "\n",
    "pivot_table"
   ]
  },
  {
   "cell_type": "code",
   "execution_count": 11,
   "id": "eb8a1288",
   "metadata": {},
   "outputs": [],
   "source": [
    "def graficos02(base_dados, colunaX,colunaY ,titulo):\n",
    "    fig = px.histogram(base_dados, x=colunaX, y=colunaY, template = 'vapor', text_auto = True,histfunc='avg',\n",
    "                    title=titulo, height=500, width=1550,)\n",
    "    fig.update_layout(font=dict(size=25) ,title_font=dict(size=25) ,yaxis_title=None, xaxis_title=None,yaxis_tickformat=\".2f\")\n",
    "    \n",
    "    fig.show()\n",
    "\n",
    "def grafico04(colunaY, colunaY2, colunaY3,colunaY4,colunaY5,colunaY6,colunaY7,colunaY8,colunaY9,colunaY10,\n",
    "               titulo_01, titulo_02, titulo_03,titulo_04,titulo_05,titulo_06,titulo_07,titulo_08,titulo_09,titulo_10):\n",
    "    fig = make_subplots(rows=5, cols=2, subplot_titles=(titulo_01, titulo_02, titulo_03,titulo_04,\n",
    "                                                        titulo_05,titulo_06,titulo_07,titulo_08,titulo_09,titulo_10),shared_xaxes='rows')\n",
    "\n",
    "    # Adicionando os gráficos aos subplots\n",
    "    fig.add_trace(px.histogram(tabela, x='Menu Category', y=colunaY ,text_auto=True,histfunc='avg').data[0], row=5, col=1)\n",
    "    fig.add_trace(px.histogram(tabela, x='Menu Category', y=colunaY2 ,text_auto=True,histfunc='avg').data[0], row=1, col=1)\n",
    "    fig.add_trace(px.histogram(tabela, x='Menu Category', y=colunaY3 ,text_auto=True,histfunc='avg').data[0], row=2, col=1)\n",
    "    fig.add_trace(px.histogram(tabela, x='Menu Category', y=colunaY4 ,text_auto=True,histfunc='avg').data[0], row=3, col=1)\n",
    "    fig.add_trace(px.histogram(tabela, x='Menu Category', y=colunaY5 ,text_auto=True,histfunc='avg').data[0], row=4, col=1)\n",
    "    fig.add_trace(px.histogram(tabela, x='Menu Category', y=colunaY6 ,text_auto=True,histfunc='avg').data[0], row=5, col=2)\n",
    "    fig.add_trace(px.histogram(tabela, x='Menu Category', y=colunaY7 ,text_auto=True,histfunc='avg').data[0], row=1, col=2)\n",
    "    fig.add_trace(px.histogram(tabela, x='Menu Category', y=colunaY8 ,text_auto=True,histfunc='avg').data[0], row=2, col=2)\n",
    "    fig.add_trace(px.histogram(tabela, x='Menu Category', y=colunaY9 ,text_auto=True,histfunc='avg').data[0], row=3, col=2)\n",
    "    fig.add_trace(px.histogram(tabela, x='Menu Category', y=colunaY10 ,text_auto=True,histfunc='avg').data[0], row=4, col=2)\n",
    "\n",
    "    # Atualizando layout dos subplots\n",
    "    fig.update_layout(template='vapor',font=dict(size=18), height=800)\n",
    "    fig.update_yaxes(tickformat=\".2f\", row=1, col=1)\n",
    "    fig.update_yaxes(tickformat=\".2f\", row=2, col=1)\n",
    "    fig.update_yaxes(tickformat=\".2f\", row=3, col=1)\n",
    "    fig.update_yaxes(tickformat=\".2f\", row=4, col=1)\n",
    "    fig.update_yaxes(tickformat=\".2f\", row=5, col=1)\n",
    "    fig.update_yaxes(tickformat=\".2f\", row=1, col=2)\n",
    "    fig.update_yaxes(tickformat=\".2f\", row=2, col=2)\n",
    "    fig.update_yaxes(tickformat=\".2f\", row=3, col=2)\n",
    "    fig.update_yaxes(tickformat=\".2f\", row=4, col=2)\n",
    "    fig.update_yaxes(tickformat=\".2f\", row=5, col=2)\n",
    "    # Mostrar os gráficos\n",
    "    fig.show()\n",
    "    "
   ]
  },
  {
   "cell_type": "code",
   "execution_count": 12,
   "id": "a9e7137d",
   "metadata": {},
   "outputs": [
    {
     "data": {
      "application/vnd.plotly.v1+json": {
       "config": {
        "plotlyServerURL": "https://plot.ly"
       },
       "data": [
        {
         "alignmentgroup": "True",
         "bingroup": "x",
         "histfunc": "avg",
         "hovertemplate": "Menu Category=%{x}<br>avg of Energy (kCal)=%{y}<extra></extra>",
         "legendgroup": "",
         "marker": {
          "color": "#5769fe",
          "pattern": {
           "shape": ""
          }
         },
         "name": "",
         "offsetgroup": "",
         "orientation": "v",
         "showlegend": false,
         "texttemplate": "%{value}",
         "type": "histogram",
         "x": [
          "Regular Menu",
          "Regular Menu",
          "Regular Menu",
          "Regular Menu",
          "Regular Menu",
          "Regular Menu",
          "Regular Menu",
          "Regular Menu",
          "Regular Menu",
          "Regular Menu",
          "Regular Menu",
          "Regular Menu",
          "Regular Menu",
          "Regular Menu",
          "Regular Menu",
          "Regular Menu",
          "Regular Menu",
          "Regular Menu",
          "Regular Menu",
          "Regular Menu",
          "Regular Menu",
          "Regular Menu",
          "Regular Menu",
          "Regular Menu",
          "Regular Menu",
          "Regular Menu",
          "Regular Menu",
          "Regular Menu",
          "Regular Menu",
          "Regular Menu",
          "Regular Menu",
          "Regular Menu",
          "Regular Menu",
          "Regular Menu",
          "Regular Menu",
          "Regular Menu",
          "Breakfast Menu",
          "Breakfast Menu",
          "Breakfast Menu",
          "Breakfast Menu",
          "Breakfast Menu",
          "Breakfast Menu",
          "Breakfast Menu",
          "Breakfast Menu",
          "Breakfast Menu",
          "Breakfast Menu",
          "Breakfast Menu",
          "Breakfast Menu",
          "Breakfast Menu",
          "Breakfast Menu",
          "Breakfast Menu",
          "McCafe Menu",
          "McCafe Menu",
          "McCafe Menu",
          "McCafe Menu",
          "McCafe Menu",
          "McCafe Menu",
          "McCafe Menu",
          "McCafe Menu",
          "McCafe Menu",
          "McCafe Menu",
          "McCafe Menu",
          "McCafe Menu",
          "McCafe Menu",
          "McCafe Menu",
          "McCafe Menu",
          "McCafe Menu",
          "McCafe Menu",
          "McCafe Menu",
          "McCafe Menu",
          "McCafe Menu",
          "McCafe Menu",
          "McCafe Menu",
          "McCafe Menu",
          "McCafe Menu",
          "McCafe Menu",
          "McCafe Menu",
          "McCafe Menu",
          "McCafe Menu",
          "McCafe Menu",
          "McCafe Menu",
          "McCafe Menu",
          "McCafe Menu",
          "McCafe Menu",
          "McCafe Menu",
          "McCafe Menu",
          "McCafe Menu",
          "McCafe Menu",
          "McCafe Menu",
          "McCafe Menu",
          "McCafe Menu",
          "McCafe Menu",
          "McCafe Menu",
          "McCafe Menu",
          "McCafe Menu",
          "McCafe Menu",
          "McCafe Menu",
          "McCafe Menu",
          "McCafe Menu",
          "McCafe Menu",
          "McCafe Menu",
          "McCafe Menu",
          "Desserts Menu",
          "Desserts Menu",
          "Gourmet Menu",
          "Gourmet Menu",
          "Gourmet Menu",
          "Gourmet Menu",
          "Gourmet Menu",
          "Gourmet Menu",
          "Gourmet Menu",
          "Gourmet Menu",
          "Gourmet Menu",
          "Gourmet Menu",
          "Gourmet Menu",
          "Beverages Menu",
          "Beverages Menu",
          "Beverages Menu",
          "Beverages Menu",
          "Beverages Menu",
          "Beverages Menu",
          "Beverages Menu",
          "Beverages Menu",
          "Beverages Menu",
          "Beverages Menu",
          "Beverages Menu",
          "Beverages Menu",
          "Beverages Menu",
          "Beverages Menu",
          "Beverages Menu",
          "Beverages Menu",
          "Beverages Menu",
          "Condiments Menu",
          "Condiments Menu",
          "Condiments Menu",
          "Condiments Menu",
          "Condiments Menu",
          "Condiments Menu",
          "Condiments Menu",
          "Condiments Menu",
          "Condiments Menu"
         ],
         "xaxis": "x9",
         "y": [
          402,
          339,
          652,
          674,
          512,
          832,
          356,
          228,
          400,
          348,
          451,
          567,
          689,
          446,
          357,
          230,
          290,
          282,
          720,
          248,
          169,
          254,
          381,
          164,
          246,
          411,
          224,
          317,
          449,
          204,
          280,
          387,
          6,
          35,
          341,
          329,
          309,
          273,
          278,
          281,
          290,
          283,
          432,
          140,
          12,
          44,
          12,
          23,
          26,
          125,
          183,
          219,
          147,
          190,
          232,
          166,
          215,
          251,
          185,
          244,
          302,
          143,
          239,
          296,
          383,
          214,
          255,
          9,
          11,
          16,
          6,
          7,
          10,
          7,
          8,
          11,
          121,
          94,
          94,
          185,
          331,
          397,
          481,
          255,
          270,
          231,
          235,
          102,
          103,
          128,
          150,
          398,
          85,
          160,
          121,
          197,
          100,
          156,
          205,
          311,
          237,
          429,
          116,
          209,
          457,
          524,
          671,
          834,
          641,
          622,
          634,
          443,
          517,
          252,
          378,
          109,
          151,
          217,
          129,
          178,
          256,
          99,
          137,
          197,
          119,
          165,
          237,
          138,
          151,
          145,
          0,
          0,
          81,
          54,
          8,
          17,
          11,
          86,
          51,
          45,
          72
         ],
         "yaxis": "y9"
        },
        {
         "alignmentgroup": "True",
         "bingroup": "x",
         "histfunc": "avg",
         "hovertemplate": "Menu Category=%{x}<br>avg of Protein (g)=%{y}<extra></extra>",
         "legendgroup": "",
         "marker": {
          "color": "#5769fe",
          "pattern": {
           "shape": ""
          }
         },
         "name": "",
         "offsetgroup": "",
         "orientation": "v",
         "showlegend": false,
         "texttemplate": "%{value}",
         "type": "histogram",
         "x": [
          "Regular Menu",
          "Regular Menu",
          "Regular Menu",
          "Regular Menu",
          "Regular Menu",
          "Regular Menu",
          "Regular Menu",
          "Regular Menu",
          "Regular Menu",
          "Regular Menu",
          "Regular Menu",
          "Regular Menu",
          "Regular Menu",
          "Regular Menu",
          "Regular Menu",
          "Regular Menu",
          "Regular Menu",
          "Regular Menu",
          "Regular Menu",
          "Regular Menu",
          "Regular Menu",
          "Regular Menu",
          "Regular Menu",
          "Regular Menu",
          "Regular Menu",
          "Regular Menu",
          "Regular Menu",
          "Regular Menu",
          "Regular Menu",
          "Regular Menu",
          "Regular Menu",
          "Regular Menu",
          "Regular Menu",
          "Regular Menu",
          "Regular Menu",
          "Regular Menu",
          "Breakfast Menu",
          "Breakfast Menu",
          "Breakfast Menu",
          "Breakfast Menu",
          "Breakfast Menu",
          "Breakfast Menu",
          "Breakfast Menu",
          "Breakfast Menu",
          "Breakfast Menu",
          "Breakfast Menu",
          "Breakfast Menu",
          "Breakfast Menu",
          "Breakfast Menu",
          "Breakfast Menu",
          "Breakfast Menu",
          "McCafe Menu",
          "McCafe Menu",
          "McCafe Menu",
          "McCafe Menu",
          "McCafe Menu",
          "McCafe Menu",
          "McCafe Menu",
          "McCafe Menu",
          "McCafe Menu",
          "McCafe Menu",
          "McCafe Menu",
          "McCafe Menu",
          "McCafe Menu",
          "McCafe Menu",
          "McCafe Menu",
          "McCafe Menu",
          "McCafe Menu",
          "McCafe Menu",
          "McCafe Menu",
          "McCafe Menu",
          "McCafe Menu",
          "McCafe Menu",
          "McCafe Menu",
          "McCafe Menu",
          "McCafe Menu",
          "McCafe Menu",
          "McCafe Menu",
          "McCafe Menu",
          "McCafe Menu",
          "McCafe Menu",
          "McCafe Menu",
          "McCafe Menu",
          "McCafe Menu",
          "McCafe Menu",
          "McCafe Menu",
          "McCafe Menu",
          "McCafe Menu",
          "McCafe Menu",
          "McCafe Menu",
          "McCafe Menu",
          "McCafe Menu",
          "McCafe Menu",
          "McCafe Menu",
          "McCafe Menu",
          "McCafe Menu",
          "McCafe Menu",
          "McCafe Menu",
          "McCafe Menu",
          "McCafe Menu",
          "McCafe Menu",
          "McCafe Menu",
          "Desserts Menu",
          "Desserts Menu",
          "Gourmet Menu",
          "Gourmet Menu",
          "Gourmet Menu",
          "Gourmet Menu",
          "Gourmet Menu",
          "Gourmet Menu",
          "Gourmet Menu",
          "Gourmet Menu",
          "Gourmet Menu",
          "Gourmet Menu",
          "Gourmet Menu",
          "Beverages Menu",
          "Beverages Menu",
          "Beverages Menu",
          "Beverages Menu",
          "Beverages Menu",
          "Beverages Menu",
          "Beverages Menu",
          "Beverages Menu",
          "Beverages Menu",
          "Beverages Menu",
          "Beverages Menu",
          "Beverages Menu",
          "Beverages Menu",
          "Beverages Menu",
          "Beverages Menu",
          "Beverages Menu",
          "Beverages Menu",
          "Condiments Menu",
          "Condiments Menu",
          "Condiments Menu",
          "Condiments Menu",
          "Condiments Menu",
          "Condiments Menu",
          "Condiments Menu",
          "Condiments Menu",
          "Condiments Menu"
         ],
         "xaxis": "x",
         "y": [
          10.24,
          8.5,
          20.29,
          20.96,
          15.3,
          24.17,
          7.91,
          5.45,
          15.66,
          15.44,
          21.46,
          23.74,
          34,
          20.29,
          8.64,
          5.67,
          12.45,
          12.29,
          26.91,
          17.33,
          10.03,
          15.04,
          22.56,
          10.17,
          15.26,
          25.43,
          3.38,
          4.79,
          6.76,
          3.97,
          5.44,
          7.53,
          0,
          1,
          5.13,
          4.48,
          10.22,
          9.58,
          11.49,
          16.25,
          22.46,
          14.05,
          8.6,
          1.93,
          0.52,
          2.09,
          0.52,
          0.94,
          1.09,
          6.02,
          8.79,
          10.51,
          7.12,
          9.1,
          11.14,
          8.06,
          10.36,
          12.08,
          7.15,
          8.99,
          10.88,
          3.87,
          6.73,
          7.7,
          11.01,
          6.15,
          6.87,
          0.56,
          0.66,
          0.91,
          0.33,
          0.4,
          0.55,
          0.47,
          0.56,
          0.78,
          0.27,
          0.24,
          0.24,
          4.36,
          4.98,
          5.49,
          6.03,
          3.67,
          4.16,
          3.21,
          3.33,
          0.14,
          0.16,
          0.07,
          3.59,
          5.67,
          1.99,
          2.71,
          2.25,
          3.49,
          1.54,
          2.05,
          3.2,
          4.65,
          3.22,
          5.42,
          2.05,
          3.58,
          24.43,
          19.54,
          14.99,
          27.37,
          39.47,
          31.49,
          22.44,
          25.63,
          11.97,
          8.48,
          12.72,
          0,
          0,
          0,
          0,
          0,
          0,
          0,
          0,
          0,
          0,
          0,
          0,
          1.52,
          1.52,
          1.52,
          0,
          0,
          0.52,
          0.26,
          0.03,
          0.51,
          0.08,
          0,
          3.06,
          1.47,
          0.65
         ],
         "yaxis": "y"
        },
        {
         "alignmentgroup": "True",
         "bingroup": "x",
         "histfunc": "avg",
         "hovertemplate": "Menu Category=%{x}<br>avg of Sodium (mg)=%{y}<extra></extra>",
         "legendgroup": "",
         "marker": {
          "color": "#5769fe",
          "pattern": {
           "shape": ""
          }
         },
         "name": "",
         "offsetgroup": "",
         "orientation": "v",
         "showlegend": false,
         "texttemplate": "%{value}",
         "type": "histogram",
         "x": [
          "Regular Menu",
          "Regular Menu",
          "Regular Menu",
          "Regular Menu",
          "Regular Menu",
          "Regular Menu",
          "Regular Menu",
          "Regular Menu",
          "Regular Menu",
          "Regular Menu",
          "Regular Menu",
          "Regular Menu",
          "Regular Menu",
          "Regular Menu",
          "Regular Menu",
          "Regular Menu",
          "Regular Menu",
          "Regular Menu",
          "Regular Menu",
          "Regular Menu",
          "Regular Menu",
          "Regular Menu",
          "Regular Menu",
          "Regular Menu",
          "Regular Menu",
          "Regular Menu",
          "Regular Menu",
          "Regular Menu",
          "Regular Menu",
          "Regular Menu",
          "Regular Menu",
          "Regular Menu",
          "Regular Menu",
          "Regular Menu",
          "Regular Menu",
          "Regular Menu",
          "Breakfast Menu",
          "Breakfast Menu",
          "Breakfast Menu",
          "Breakfast Menu",
          "Breakfast Menu",
          "Breakfast Menu",
          "Breakfast Menu",
          "Breakfast Menu",
          "Breakfast Menu",
          "Breakfast Menu",
          "Breakfast Menu",
          "Breakfast Menu",
          "Breakfast Menu",
          "Breakfast Menu",
          "Breakfast Menu",
          "McCafe Menu",
          "McCafe Menu",
          "McCafe Menu",
          "McCafe Menu",
          "McCafe Menu",
          "McCafe Menu",
          "McCafe Menu",
          "McCafe Menu",
          "McCafe Menu",
          "McCafe Menu",
          "McCafe Menu",
          "McCafe Menu",
          "McCafe Menu",
          "McCafe Menu",
          "McCafe Menu",
          "McCafe Menu",
          "McCafe Menu",
          "McCafe Menu",
          "McCafe Menu",
          "McCafe Menu",
          "McCafe Menu",
          "McCafe Menu",
          "McCafe Menu",
          "McCafe Menu",
          "McCafe Menu",
          "McCafe Menu",
          "McCafe Menu",
          "McCafe Menu",
          "McCafe Menu",
          "McCafe Menu",
          "McCafe Menu",
          "McCafe Menu",
          "McCafe Menu",
          "McCafe Menu",
          "McCafe Menu",
          "McCafe Menu",
          "McCafe Menu",
          "McCafe Menu",
          "McCafe Menu",
          "McCafe Menu",
          "McCafe Menu",
          "McCafe Menu",
          "McCafe Menu",
          "McCafe Menu",
          "McCafe Menu",
          "McCafe Menu",
          "McCafe Menu",
          "McCafe Menu",
          "McCafe Menu",
          "McCafe Menu",
          "McCafe Menu",
          "Desserts Menu",
          "Desserts Menu",
          "Gourmet Menu",
          "Gourmet Menu",
          "Gourmet Menu",
          "Gourmet Menu",
          "Gourmet Menu",
          "Gourmet Menu",
          "Gourmet Menu",
          "Gourmet Menu",
          "Gourmet Menu",
          "Gourmet Menu",
          "Gourmet Menu",
          "Beverages Menu",
          "Beverages Menu",
          "Beverages Menu",
          "Beverages Menu",
          "Beverages Menu",
          "Beverages Menu",
          "Beverages Menu",
          "Beverages Menu",
          "Beverages Menu",
          "Beverages Menu",
          "Beverages Menu",
          "Beverages Menu",
          "Beverages Menu",
          "Beverages Menu",
          "Beverages Menu",
          "Beverages Menu",
          "Beverages Menu",
          "Condiments Menu",
          "Condiments Menu",
          "Condiments Menu",
          "Condiments Menu",
          "Condiments Menu",
          "Condiments Menu",
          "Condiments Menu",
          "Condiments Menu",
          "Condiments Menu"
         ],
         "xaxis": "x3",
         "y": [
          706,
          545,
          1074,
          1087,
          1051,
          1529,
          579,
          390,
          766,
          530,
          928,
          1152,
          1854,
          1132,
          548,
          410,
          757,
          399,
          2399,
          873,
          313,
          469,
          704,
          477,
          715,
          1193,
          153,
          216,
          306,
          356,
          487,
          675,
          0,
          14,
          313,
          254,
          804,
          622,
          773,
          742,
          804,
          519,
          615,
          275,
          0,
          26,
          0,
          0,
          0,
          90,
          129,
          155,
          108,
          134,
          165,
          123,
          154,
          180,
          132,
          168,
          209,
          96,
          167,
          207,
          273,
          68,
          70,
          13,
          16,
          22,
          14,
          17,
          24,
          14,
          17,
          23,
          10,
          9,
          9,
          78,
          188,
          233,
          332,
          139,
          178,
          85,
          92,
          102,
          23,
          66,
          62,
          185,
          40,
          51,
          65,
          110,
          34,
          48,
          100,
          146,
          104,
          188,
          80,
          150,
          1396,
          1174,
          1153,
          1745,
          1906,
          1614,
          1446,
          1267,
          1170,
          428,
          642,
          21,
          29,
          41,
          55,
          76,
          110,
          25,
          34,
          49,
          2,
          2,
          4,
          44,
          66,
          47,
          24,
          2,
          221,
          113,
          65,
          414,
          71,
          15,
          178,
          0,
          10
         ],
         "yaxis": "y3"
        },
        {
         "alignmentgroup": "True",
         "bingroup": "x",
         "histfunc": "avg",
         "hovertemplate": "Menu Category=%{x}<br>avg of Total fat (g)=%{y}<extra></extra>",
         "legendgroup": "",
         "marker": {
          "color": "#5769fe",
          "pattern": {
           "shape": ""
          }
         },
         "name": "",
         "offsetgroup": "",
         "orientation": "v",
         "showlegend": false,
         "texttemplate": "%{value}",
         "type": "histogram",
         "x": [
          "Regular Menu",
          "Regular Menu",
          "Regular Menu",
          "Regular Menu",
          "Regular Menu",
          "Regular Menu",
          "Regular Menu",
          "Regular Menu",
          "Regular Menu",
          "Regular Menu",
          "Regular Menu",
          "Regular Menu",
          "Regular Menu",
          "Regular Menu",
          "Regular Menu",
          "Regular Menu",
          "Regular Menu",
          "Regular Menu",
          "Regular Menu",
          "Regular Menu",
          "Regular Menu",
          "Regular Menu",
          "Regular Menu",
          "Regular Menu",
          "Regular Menu",
          "Regular Menu",
          "Regular Menu",
          "Regular Menu",
          "Regular Menu",
          "Regular Menu",
          "Regular Menu",
          "Regular Menu",
          "Regular Menu",
          "Regular Menu",
          "Regular Menu",
          "Regular Menu",
          "Breakfast Menu",
          "Breakfast Menu",
          "Breakfast Menu",
          "Breakfast Menu",
          "Breakfast Menu",
          "Breakfast Menu",
          "Breakfast Menu",
          "Breakfast Menu",
          "Breakfast Menu",
          "Breakfast Menu",
          "Breakfast Menu",
          "Breakfast Menu",
          "Breakfast Menu",
          "Breakfast Menu",
          "Breakfast Menu",
          "McCafe Menu",
          "McCafe Menu",
          "McCafe Menu",
          "McCafe Menu",
          "McCafe Menu",
          "McCafe Menu",
          "McCafe Menu",
          "McCafe Menu",
          "McCafe Menu",
          "McCafe Menu",
          "McCafe Menu",
          "McCafe Menu",
          "McCafe Menu",
          "McCafe Menu",
          "McCafe Menu",
          "McCafe Menu",
          "McCafe Menu",
          "McCafe Menu",
          "McCafe Menu",
          "McCafe Menu",
          "McCafe Menu",
          "McCafe Menu",
          "McCafe Menu",
          "McCafe Menu",
          "McCafe Menu",
          "McCafe Menu",
          "McCafe Menu",
          "McCafe Menu",
          "McCafe Menu",
          "McCafe Menu",
          "McCafe Menu",
          "McCafe Menu",
          "McCafe Menu",
          "McCafe Menu",
          "McCafe Menu",
          "McCafe Menu",
          "McCafe Menu",
          "McCafe Menu",
          "McCafe Menu",
          "McCafe Menu",
          "McCafe Menu",
          "McCafe Menu",
          "McCafe Menu",
          "McCafe Menu",
          "McCafe Menu",
          "McCafe Menu",
          "McCafe Menu",
          "McCafe Menu",
          "McCafe Menu",
          "McCafe Menu",
          "McCafe Menu",
          "Desserts Menu",
          "Desserts Menu",
          "Gourmet Menu",
          "Gourmet Menu",
          "Gourmet Menu",
          "Gourmet Menu",
          "Gourmet Menu",
          "Gourmet Menu",
          "Gourmet Menu",
          "Gourmet Menu",
          "Gourmet Menu",
          "Gourmet Menu",
          "Gourmet Menu",
          "Beverages Menu",
          "Beverages Menu",
          "Beverages Menu",
          "Beverages Menu",
          "Beverages Menu",
          "Beverages Menu",
          "Beverages Menu",
          "Beverages Menu",
          "Beverages Menu",
          "Beverages Menu",
          "Beverages Menu",
          "Beverages Menu",
          "Beverages Menu",
          "Beverages Menu",
          "Beverages Menu",
          "Beverages Menu",
          "Beverages Menu",
          "Condiments Menu",
          "Condiments Menu",
          "Condiments Menu",
          "Condiments Menu",
          "Condiments Menu",
          "Condiments Menu",
          "Condiments Menu",
          "Condiments Menu",
          "Condiments Menu"
         ],
         "xaxis": "x5",
         "y": [
          13.83,
          11.31,
          39.45,
          39.1,
          23.45,
          37.94,
          15.08,
          11.44,
          15.7,
          14.16,
          19.36,
          26.89,
          36.69,
          22.94,
          14.02,
          9.32,
          12.27,
          12.21,
          29.2,
          14.29,
          9.54,
          14.3,
          21.46,
          12.38,
          18.57,
          28.54,
          10.39,
          14.7,
          20.77,
          7.15,
          9.79,
          13.55,
          0,
          2,
          17.28,
          15.46,
          11.78,
          12.82,
          11.81,
          10.81,
          15.94,
          12.31,
          14.02,
          7.32,
          0.03,
          2.02,
          0.03,
          0.05,
          0.06,
          7.01,
          10.02,
          12.03,
          8.41,
          10.42,
          12.82,
          9.6,
          12.02,
          14.02,
          8.2,
          9.91,
          12.01,
          4.38,
          7.77,
          8.76,
          12.84,
          5.96,
          6.32,
          0.28,
          0.33,
          0.46,
          0.28,
          0.33,
          0.46,
          0.28,
          0.33,
          0.46,
          0.17,
          0.16,
          0.16,
          4.45,
          14.73,
          15.01,
          18.89,
          7.44,
          7.7,
          3.63,
          3.59,
          0.04,
          0.04,
          0.08,
          3.57,
          12.77,
          1.82,
          7.14,
          4.02,
          6.87,
          1.77,
          2.36,
          5.45,
          7.46,
          5.47,
          9.76,
          3.7,
          6.81,
          22.65,
          23.16,
          33.48,
          45.18,
          31.51,
          34.65,
          39.21,
          17.3,
          24.53,
          13.09,
          19.63,
          0,
          0,
          0,
          0,
          0,
          0,
          0,
          0,
          0,
          0,
          0,
          0,
          1.75,
          1.75,
          1.75,
          0,
          0,
          5.57,
          0.49,
          0.01,
          0.36,
          23.45,
          0,
          3.99,
          1,
          0.02
         ],
         "yaxis": "y5"
        },
        {
         "alignmentgroup": "True",
         "bingroup": "x",
         "histfunc": "avg",
         "hovertemplate": "Menu Category=%{x}<br>avg of Total Sugars (g)=%{y}<extra></extra>",
         "legendgroup": "",
         "marker": {
          "color": "#5769fe",
          "pattern": {
           "shape": ""
          }
         },
         "name": "",
         "offsetgroup": "",
         "orientation": "v",
         "showlegend": false,
         "texttemplate": "%{value}",
         "type": "histogram",
         "x": [
          "Regular Menu",
          "Regular Menu",
          "Regular Menu",
          "Regular Menu",
          "Regular Menu",
          "Regular Menu",
          "Regular Menu",
          "Regular Menu",
          "Regular Menu",
          "Regular Menu",
          "Regular Menu",
          "Regular Menu",
          "Regular Menu",
          "Regular Menu",
          "Regular Menu",
          "Regular Menu",
          "Regular Menu",
          "Regular Menu",
          "Regular Menu",
          "Regular Menu",
          "Regular Menu",
          "Regular Menu",
          "Regular Menu",
          "Regular Menu",
          "Regular Menu",
          "Regular Menu",
          "Regular Menu",
          "Regular Menu",
          "Regular Menu",
          "Regular Menu",
          "Regular Menu",
          "Regular Menu",
          "Regular Menu",
          "Regular Menu",
          "Regular Menu",
          "Regular Menu",
          "Breakfast Menu",
          "Breakfast Menu",
          "Breakfast Menu",
          "Breakfast Menu",
          "Breakfast Menu",
          "Breakfast Menu",
          "Breakfast Menu",
          "Breakfast Menu",
          "Breakfast Menu",
          "Breakfast Menu",
          "Breakfast Menu",
          "Breakfast Menu",
          "Breakfast Menu",
          "Breakfast Menu",
          "Breakfast Menu",
          "McCafe Menu",
          "McCafe Menu",
          "McCafe Menu",
          "McCafe Menu",
          "McCafe Menu",
          "McCafe Menu",
          "McCafe Menu",
          "McCafe Menu",
          "McCafe Menu",
          "McCafe Menu",
          "McCafe Menu",
          "McCafe Menu",
          "McCafe Menu",
          "McCafe Menu",
          "McCafe Menu",
          "McCafe Menu",
          "McCafe Menu",
          "McCafe Menu",
          "McCafe Menu",
          "McCafe Menu",
          "McCafe Menu",
          "McCafe Menu",
          "McCafe Menu",
          "McCafe Menu",
          "McCafe Menu",
          "McCafe Menu",
          "McCafe Menu",
          "McCafe Menu",
          "McCafe Menu",
          "McCafe Menu",
          "McCafe Menu",
          "McCafe Menu",
          "McCafe Menu",
          "McCafe Menu",
          "McCafe Menu",
          "McCafe Menu",
          "McCafe Menu",
          "McCafe Menu",
          "McCafe Menu",
          "McCafe Menu",
          "McCafe Menu",
          "McCafe Menu",
          "McCafe Menu",
          "McCafe Menu",
          "McCafe Menu",
          "McCafe Menu",
          "McCafe Menu",
          "McCafe Menu",
          "McCafe Menu",
          "McCafe Menu",
          "McCafe Menu",
          "Desserts Menu",
          "Desserts Menu",
          "Gourmet Menu",
          "Gourmet Menu",
          "Gourmet Menu",
          "Gourmet Menu",
          "Gourmet Menu",
          "Gourmet Menu",
          "Gourmet Menu",
          "Gourmet Menu",
          "Gourmet Menu",
          "Gourmet Menu",
          "Gourmet Menu",
          "Beverages Menu",
          "Beverages Menu",
          "Beverages Menu",
          "Beverages Menu",
          "Beverages Menu",
          "Beverages Menu",
          "Beverages Menu",
          "Beverages Menu",
          "Beverages Menu",
          "Beverages Menu",
          "Beverages Menu",
          "Beverages Menu",
          "Beverages Menu",
          "Beverages Menu",
          "Beverages Menu",
          "Beverages Menu",
          "Beverages Menu",
          "Condiments Menu",
          "Condiments Menu",
          "Condiments Menu",
          "Condiments Menu",
          "Condiments Menu",
          "Condiments Menu",
          "Condiments Menu",
          "Condiments Menu",
          "Condiments Menu"
         ],
         "xaxis": "x7",
         "y": [
          7.9,
          7.05,
          8.35,
          3.5,
          7.85,
          11.52,
          4.53,
          2.73,
          5.53,
          5.58,
          5.88,
          2.52,
          8.92,
          7.48,
          5.08,
          3.64,
          4.89,
          4.66,
          3.28,
          0.58,
          0.32,
          0.48,
          0.72,
          0.29,
          0.44,
          0.72,
          0.39,
          0.55,
          0.77,
          0.48,
          0.66,
          0.92,
          0,
          3.45,
          29.44,
          29.6,
          3.02,
          2.59,
          2.63,
          2.38,
          2.61,
          2.38,
          25.72,
          0.32,
          0.13,
          2.5,
          0.13,
          0.24,
          0.28,
          8.4,
          12.05,
          14.45,
          10.06,
          12.52,
          15.4,
          11.47,
          14.41,
          16.81,
          17.57,
          23.56,
          29.96,
          18.53,
          30.31,
          39.24,
          47.96,
          25.73,
          31.81,
          1.4,
          1.65,
          2.28,
          1.4,
          1.65,
          2.28,
          1.4,
          1.65,
          2.28,
          26.53,
          21.1,
          20.75,
          26.95,
          35.57,
          47.55,
          55.14,
          37.42,
          37.78,
          38.87,
          43,
          21.06,
          21.25,
          28.72,
          21.58,
          53.4,
          10.68,
          15.39,
          17.07,
          27.01,
          17.66,
          28.2,
          20.75,
          27.94,
          27.79,
          48.45,
          14.49,
          25.35,
          7.64,
          7.9,
          16.27,
          16.75,
          9.16,
          6.07,
          7.57,
          9.29,
          12.87,
          1.31,
          1.96,
          27.39,
          37.84,
          54.34,
          32.37,
          44.72,
          64.22,
          24.9,
          34.4,
          49.4,
          29.88,
          41.28,
          59.28,
          28.23,
          31.43,
          29.83,
          0,
          0,
          6.66,
          7.65,
          1.53,
          0.66,
          2.33,
          16.2,
          0.54,
          2.54,
          16.83
         ],
         "yaxis": "y7"
        },
        {
         "alignmentgroup": "True",
         "bingroup": "x",
         "histfunc": "avg",
         "hovertemplate": "Menu Category=%{x}<br>avg of Cholesterols (mg)=%{y}<extra></extra>",
         "legendgroup": "",
         "marker": {
          "color": "#5769fe",
          "pattern": {
           "shape": ""
          }
         },
         "name": "",
         "offsetgroup": "",
         "orientation": "v",
         "showlegend": false,
         "texttemplate": "%{value}",
         "type": "histogram",
         "x": [
          "Regular Menu",
          "Regular Menu",
          "Regular Menu",
          "Regular Menu",
          "Regular Menu",
          "Regular Menu",
          "Regular Menu",
          "Regular Menu",
          "Regular Menu",
          "Regular Menu",
          "Regular Menu",
          "Regular Menu",
          "Regular Menu",
          "Regular Menu",
          "Regular Menu",
          "Regular Menu",
          "Regular Menu",
          "Regular Menu",
          "Regular Menu",
          "Regular Menu",
          "Regular Menu",
          "Regular Menu",
          "Regular Menu",
          "Regular Menu",
          "Regular Menu",
          "Regular Menu",
          "Regular Menu",
          "Regular Menu",
          "Regular Menu",
          "Regular Menu",
          "Regular Menu",
          "Regular Menu",
          "Regular Menu",
          "Regular Menu",
          "Regular Menu",
          "Regular Menu",
          "Breakfast Menu",
          "Breakfast Menu",
          "Breakfast Menu",
          "Breakfast Menu",
          "Breakfast Menu",
          "Breakfast Menu",
          "Breakfast Menu",
          "Breakfast Menu",
          "Breakfast Menu",
          "Breakfast Menu",
          "Breakfast Menu",
          "Breakfast Menu",
          "Breakfast Menu",
          "Breakfast Menu",
          "Breakfast Menu",
          "McCafe Menu",
          "McCafe Menu",
          "McCafe Menu",
          "McCafe Menu",
          "McCafe Menu",
          "McCafe Menu",
          "McCafe Menu",
          "McCafe Menu",
          "McCafe Menu",
          "McCafe Menu",
          "McCafe Menu",
          "McCafe Menu",
          "McCafe Menu",
          "McCafe Menu",
          "McCafe Menu",
          "McCafe Menu",
          "McCafe Menu",
          "McCafe Menu",
          "McCafe Menu",
          "McCafe Menu",
          "McCafe Menu",
          "McCafe Menu",
          "McCafe Menu",
          "McCafe Menu",
          "McCafe Menu",
          "McCafe Menu",
          "McCafe Menu",
          "McCafe Menu",
          "McCafe Menu",
          "McCafe Menu",
          "McCafe Menu",
          "McCafe Menu",
          "McCafe Menu",
          "McCafe Menu",
          "McCafe Menu",
          "McCafe Menu",
          "McCafe Menu",
          "McCafe Menu",
          "McCafe Menu",
          "McCafe Menu",
          "McCafe Menu",
          "McCafe Menu",
          "McCafe Menu",
          "McCafe Menu",
          "McCafe Menu",
          "McCafe Menu",
          "McCafe Menu",
          "McCafe Menu",
          "McCafe Menu",
          "McCafe Menu",
          "McCafe Menu",
          "Desserts Menu",
          "Desserts Menu",
          "Gourmet Menu",
          "Gourmet Menu",
          "Gourmet Menu",
          "Gourmet Menu",
          "Gourmet Menu",
          "Gourmet Menu",
          "Gourmet Menu",
          "Gourmet Menu",
          "Gourmet Menu",
          "Gourmet Menu",
          "Gourmet Menu",
          "Beverages Menu",
          "Beverages Menu",
          "Beverages Menu",
          "Beverages Menu",
          "Beverages Menu",
          "Beverages Menu",
          "Beverages Menu",
          "Beverages Menu",
          "Beverages Menu",
          "Beverages Menu",
          "Beverages Menu",
          "Beverages Menu",
          "Beverages Menu",
          "Beverages Menu",
          "Beverages Menu",
          "Beverages Menu",
          "Beverages Menu",
          "Condiments Menu",
          "Condiments Menu",
          "Condiments Menu",
          "Condiments Menu",
          "Condiments Menu",
          "Condiments Menu",
          "Condiments Menu",
          "Condiments Menu",
          "Condiments Menu"
         ],
         "xaxis": "x10",
         "y": [
          2.49,
          1.47,
          21.85,
          40.93,
          25.24,
          36.19,
          9.45,
          5.17,
          31.17,
          32.83,
          66.04,
          87.63,
          81.49,
          47.63,
          1.51,
          8.74,
          213.09,
          213.09,
          31.32,
          31.11,
          24.66,
          36.99,
          55.48,
          30.1,
          45.15,
          6.7,
          0.77,
          1.09,
          1.54,
          0.97,
          1.33,
          1.84,
          0,
          6,
          15.96,
          78.52,
          25.31,
          37.75,
          212.61,
          53.02,
          264.8,
          233.3,
          28.14,
          0.64,
          0.27,
          6.27,
          0.27,
          0.48,
          0.55,
          21.27,
          30.48,
          36.55,
          25.47,
          31.68,
          38.95,
          29.07,
          36.48,
          42.55,
          24.43,
          29.52,
          35.67,
          12.27,
          22.03,
          24.59,
          36.67,
          14.73,
          14.83,
          2.79,
          3.3,
          4.56,
          2.79,
          3.3,
          4.56,
          2.79,
          3.3,
          4.56,
          1.65,
          1.57,
          1.57,
          12.13,
          9.18,
          9.42,
          9.36,
          8.39,
          8.39,
          9.89,
          9.99,
          0.4,
          0.4,
          0,
          9.76,
          10.89,
          4.75,
          5.71,
          5.85,
          8.55,
          4.85,
          6.55,
          6.04,
          7.78,
          6.19,
          9.23,
          4.8,
          8,
          71.23,
          48.74,
          33.21,
          73.11,
          110.37,
          302.61,
          43.68,
          64.19,
          8.1,
          20.03,
          30.05,
          0,
          0,
          0,
          0,
          0,
          0,
          0,
          0,
          0,
          0,
          0,
          0,
          4.7,
          4.7,
          4.7,
          0,
          0,
          0.29,
          0.25,
          0.1,
          0.05,
          0.08,
          0.3,
          13.43,
          2,
          0.01
         ],
         "yaxis": "y10"
        },
        {
         "alignmentgroup": "True",
         "bingroup": "x",
         "histfunc": "avg",
         "hovertemplate": "Menu Category=%{x}<br>avg of Trans fat (g)=%{y}<extra></extra>",
         "legendgroup": "",
         "marker": {
          "color": "#5769fe",
          "pattern": {
           "shape": ""
          }
         },
         "name": "",
         "offsetgroup": "",
         "orientation": "v",
         "showlegend": false,
         "texttemplate": "%{value}",
         "type": "histogram",
         "x": [
          "Regular Menu",
          "Regular Menu",
          "Regular Menu",
          "Regular Menu",
          "Regular Menu",
          "Regular Menu",
          "Regular Menu",
          "Regular Menu",
          "Regular Menu",
          "Regular Menu",
          "Regular Menu",
          "Regular Menu",
          "Regular Menu",
          "Regular Menu",
          "Regular Menu",
          "Regular Menu",
          "Regular Menu",
          "Regular Menu",
          "Regular Menu",
          "Regular Menu",
          "Regular Menu",
          "Regular Menu",
          "Regular Menu",
          "Regular Menu",
          "Regular Menu",
          "Regular Menu",
          "Regular Menu",
          "Regular Menu",
          "Regular Menu",
          "Regular Menu",
          "Regular Menu",
          "Regular Menu",
          "Regular Menu",
          "Regular Menu",
          "Regular Menu",
          "Regular Menu",
          "Breakfast Menu",
          "Breakfast Menu",
          "Breakfast Menu",
          "Breakfast Menu",
          "Breakfast Menu",
          "Breakfast Menu",
          "Breakfast Menu",
          "Breakfast Menu",
          "Breakfast Menu",
          "Breakfast Menu",
          "Breakfast Menu",
          "Breakfast Menu",
          "Breakfast Menu",
          "Breakfast Menu",
          "Breakfast Menu",
          "McCafe Menu",
          "McCafe Menu",
          "McCafe Menu",
          "McCafe Menu",
          "McCafe Menu",
          "McCafe Menu",
          "McCafe Menu",
          "McCafe Menu",
          "McCafe Menu",
          "McCafe Menu",
          "McCafe Menu",
          "McCafe Menu",
          "McCafe Menu",
          "McCafe Menu",
          "McCafe Menu",
          "McCafe Menu",
          "McCafe Menu",
          "McCafe Menu",
          "McCafe Menu",
          "McCafe Menu",
          "McCafe Menu",
          "McCafe Menu",
          "McCafe Menu",
          "McCafe Menu",
          "McCafe Menu",
          "McCafe Menu",
          "McCafe Menu",
          "McCafe Menu",
          "McCafe Menu",
          "McCafe Menu",
          "McCafe Menu",
          "McCafe Menu",
          "McCafe Menu",
          "McCafe Menu",
          "McCafe Menu",
          "McCafe Menu",
          "McCafe Menu",
          "McCafe Menu",
          "McCafe Menu",
          "McCafe Menu",
          "McCafe Menu",
          "McCafe Menu",
          "McCafe Menu",
          "McCafe Menu",
          "McCafe Menu",
          "McCafe Menu",
          "McCafe Menu",
          "McCafe Menu",
          "McCafe Menu",
          "McCafe Menu",
          "McCafe Menu",
          "Desserts Menu",
          "Desserts Menu",
          "Gourmet Menu",
          "Gourmet Menu",
          "Gourmet Menu",
          "Gourmet Menu",
          "Gourmet Menu",
          "Gourmet Menu",
          "Gourmet Menu",
          "Gourmet Menu",
          "Gourmet Menu",
          "Gourmet Menu",
          "Gourmet Menu",
          "Beverages Menu",
          "Beverages Menu",
          "Beverages Menu",
          "Beverages Menu",
          "Beverages Menu",
          "Beverages Menu",
          "Beverages Menu",
          "Beverages Menu",
          "Beverages Menu",
          "Beverages Menu",
          "Beverages Menu",
          "Beverages Menu",
          "Beverages Menu",
          "Beverages Menu",
          "Beverages Menu",
          "Beverages Menu",
          "Beverages Menu",
          "Condiments Menu",
          "Condiments Menu",
          "Condiments Menu",
          "Condiments Menu",
          "Condiments Menu",
          "Condiments Menu",
          "Condiments Menu",
          "Condiments Menu",
          "Condiments Menu"
         ],
         "xaxis": "x2",
         "y": [
          0.16,
          0.2,
          0.18,
          0.26,
          0.17,
          0.28,
          0.24,
          0.09,
          0.16,
          0.21,
          0.18,
          0.27,
          0.25,
          0.15,
          0.13,
          0.19,
          0.11,
          0.11,
          0.3,
          0.06,
          0.06,
          0.1,
          0.14,
          0.06,
          0.09,
          75.26,
          0.08,
          0.11,
          0.15,
          0.1,
          0.13,
          0.18,
          0,
          0.08,
          0.08,
          0.08,
          0.18,
          0.21,
          0.11,
          0.17,
          0.22,
          0.17,
          0.32,
          0.06,
          0.03,
          0.08,
          0.03,
          0.05,
          0.06,
          0.2,
          0.3,
          0.36,
          0.24,
          0.31,
          0.38,
          0.27,
          0.35,
          0.41,
          0.26,
          0.34,
          0.41,
          0.15,
          0.26,
          0.32,
          0.43,
          0.15,
          0.16,
          0.28,
          0.33,
          0.46,
          0.28,
          0.33,
          0.46,
          0.28,
          0.33,
          0.46,
          0.17,
          0.16,
          0.16,
          0.15,
          0.16,
          0.2,
          0.22,
          0.12,
          0.14,
          0.14,
          0.15,
          0.04,
          0.04,
          0,
          0.13,
          0.2,
          0.05,
          0.07,
          0.08,
          0.13,
          0.06,
          0.1,
          0.1,
          0.13,
          0.11,
          0.19,
          0.07,
          0.12,
          0.17,
          0.19,
          0.21,
          0.27,
          0.26,
          0.24,
          0.2,
          0.19,
          0.18,
          0.09,
          0.14,
          0,
          0,
          0,
          0,
          0,
          0,
          0,
          0,
          0,
          0,
          0,
          0,
          0.05,
          0.05,
          0.05,
          0,
          0,
          0.47,
          0.04,
          0.01,
          0.01,
          0.01,
          0,
          0.01,
          0.04,
          0.02
         ],
         "yaxis": "y2"
        },
        {
         "alignmentgroup": "True",
         "bingroup": "x",
         "histfunc": "avg",
         "hovertemplate": "Menu Category=%{x}<br>avg of Total carbohydrate (g)=%{y}<extra></extra>",
         "legendgroup": "",
         "marker": {
          "color": "#5769fe",
          "pattern": {
           "shape": ""
          }
         },
         "name": "",
         "offsetgroup": "",
         "orientation": "v",
         "showlegend": false,
         "texttemplate": "%{value}",
         "type": "histogram",
         "x": [
          "Regular Menu",
          "Regular Menu",
          "Regular Menu",
          "Regular Menu",
          "Regular Menu",
          "Regular Menu",
          "Regular Menu",
          "Regular Menu",
          "Regular Menu",
          "Regular Menu",
          "Regular Menu",
          "Regular Menu",
          "Regular Menu",
          "Regular Menu",
          "Regular Menu",
          "Regular Menu",
          "Regular Menu",
          "Regular Menu",
          "Regular Menu",
          "Regular Menu",
          "Regular Menu",
          "Regular Menu",
          "Regular Menu",
          "Regular Menu",
          "Regular Menu",
          "Regular Menu",
          "Regular Menu",
          "Regular Menu",
          "Regular Menu",
          "Regular Menu",
          "Regular Menu",
          "Regular Menu",
          "Regular Menu",
          "Regular Menu",
          "Regular Menu",
          "Regular Menu",
          "Breakfast Menu",
          "Breakfast Menu",
          "Breakfast Menu",
          "Breakfast Menu",
          "Breakfast Menu",
          "Breakfast Menu",
          "Breakfast Menu",
          "Breakfast Menu",
          "Breakfast Menu",
          "Breakfast Menu",
          "Breakfast Menu",
          "Breakfast Menu",
          "Breakfast Menu",
          "Breakfast Menu",
          "Breakfast Menu",
          "McCafe Menu",
          "McCafe Menu",
          "McCafe Menu",
          "McCafe Menu",
          "McCafe Menu",
          "McCafe Menu",
          "McCafe Menu",
          "McCafe Menu",
          "McCafe Menu",
          "McCafe Menu",
          "McCafe Menu",
          "McCafe Menu",
          "McCafe Menu",
          "McCafe Menu",
          "McCafe Menu",
          "McCafe Menu",
          "McCafe Menu",
          "McCafe Menu",
          "McCafe Menu",
          "McCafe Menu",
          "McCafe Menu",
          "McCafe Menu",
          "McCafe Menu",
          "McCafe Menu",
          "McCafe Menu",
          "McCafe Menu",
          "McCafe Menu",
          "McCafe Menu",
          "McCafe Menu",
          "McCafe Menu",
          "McCafe Menu",
          "McCafe Menu",
          "McCafe Menu",
          "McCafe Menu",
          "McCafe Menu",
          "McCafe Menu",
          "McCafe Menu",
          "McCafe Menu",
          "McCafe Menu",
          "McCafe Menu",
          "McCafe Menu",
          "McCafe Menu",
          "McCafe Menu",
          "McCafe Menu",
          "McCafe Menu",
          "McCafe Menu",
          "McCafe Menu",
          "McCafe Menu",
          "McCafe Menu",
          "McCafe Menu",
          "McCafe Menu",
          "Desserts Menu",
          "Desserts Menu",
          "Gourmet Menu",
          "Gourmet Menu",
          "Gourmet Menu",
          "Gourmet Menu",
          "Gourmet Menu",
          "Gourmet Menu",
          "Gourmet Menu",
          "Gourmet Menu",
          "Gourmet Menu",
          "Gourmet Menu",
          "Gourmet Menu",
          "Beverages Menu",
          "Beverages Menu",
          "Beverages Menu",
          "Beverages Menu",
          "Beverages Menu",
          "Beverages Menu",
          "Beverages Menu",
          "Beverages Menu",
          "Beverages Menu",
          "Beverages Menu",
          "Beverages Menu",
          "Beverages Menu",
          "Beverages Menu",
          "Beverages Menu",
          "Beverages Menu",
          "Beverages Menu",
          "Beverages Menu",
          "Condiments Menu",
          "Condiments Menu",
          "Condiments Menu",
          "Condiments Menu",
          "Condiments Menu",
          "Condiments Menu",
          "Condiments Menu",
          "Condiments Menu",
          "Condiments Menu"
         ],
         "xaxis": "x4",
         "y": [
          56,
          50,
          52,
          59,
          56,
          93,
          46,
          24,
          47,
          38,
          46,
          57,
          55,
          38,
          47,
          31,
          32,
          31,
          77,
          12,
          10,
          15,
          23,
          2,
          4,
          0,
          27,
          38,
          54,
          28,
          39,
          54,
          1,
          1,
          40,
          40,
          38,
          29,
          31,
          28,
          28,
          28,
          68,
          15,
          2,
          4,
          2,
          4,
          5,
          11,
          16,
          19,
          12,
          17,
          20,
          14,
          19,
          22,
          22,
          31,
          40,
          22,
          37,
          48,
          58,
          33,
          41,
          0,
          0,
          0,
          2,
          3,
          4,
          2,
          3,
          4,
          30,
          24,
          24,
          31,
          45,
          60,
          72,
          44,
          46,
          46,
          47,
          25,
          25,
          31,
          26,
          64,
          15,
          20,
          19,
          30,
          19,
          31,
          35,
          55,
          43,
          79,
          18,
          33,
          37,
          56,
          74,
          76,
          46,
          43,
          46,
          43,
          58,
          23,
          35,
          27,
          37,
          54,
          32,
          44,
          64,
          24,
          34,
          49,
          29,
          41,
          59,
          29,
          32,
          30,
          0,
          0,
          7,
          12,
          1,
          2,
          2,
          21,
          0,
          7,
          18
         ],
         "yaxis": "y4"
        },
        {
         "alignmentgroup": "True",
         "bingroup": "x",
         "histfunc": "avg",
         "hovertemplate": "Menu Category=%{x}<br>avg of Added Sugars (g)=%{y}<extra></extra>",
         "legendgroup": "",
         "marker": {
          "color": "#5769fe",
          "pattern": {
           "shape": ""
          }
         },
         "name": "",
         "offsetgroup": "",
         "orientation": "v",
         "showlegend": false,
         "texttemplate": "%{value}",
         "type": "histogram",
         "x": [
          "Regular Menu",
          "Regular Menu",
          "Regular Menu",
          "Regular Menu",
          "Regular Menu",
          "Regular Menu",
          "Regular Menu",
          "Regular Menu",
          "Regular Menu",
          "Regular Menu",
          "Regular Menu",
          "Regular Menu",
          "Regular Menu",
          "Regular Menu",
          "Regular Menu",
          "Regular Menu",
          "Regular Menu",
          "Regular Menu",
          "Regular Menu",
          "Regular Menu",
          "Regular Menu",
          "Regular Menu",
          "Regular Menu",
          "Regular Menu",
          "Regular Menu",
          "Regular Menu",
          "Regular Menu",
          "Regular Menu",
          "Regular Menu",
          "Regular Menu",
          "Regular Menu",
          "Regular Menu",
          "Regular Menu",
          "Regular Menu",
          "Regular Menu",
          "Regular Menu",
          "Breakfast Menu",
          "Breakfast Menu",
          "Breakfast Menu",
          "Breakfast Menu",
          "Breakfast Menu",
          "Breakfast Menu",
          "Breakfast Menu",
          "Breakfast Menu",
          "Breakfast Menu",
          "Breakfast Menu",
          "Breakfast Menu",
          "Breakfast Menu",
          "Breakfast Menu",
          "Breakfast Menu",
          "Breakfast Menu",
          "McCafe Menu",
          "McCafe Menu",
          "McCafe Menu",
          "McCafe Menu",
          "McCafe Menu",
          "McCafe Menu",
          "McCafe Menu",
          "McCafe Menu",
          "McCafe Menu",
          "McCafe Menu",
          "McCafe Menu",
          "McCafe Menu",
          "McCafe Menu",
          "McCafe Menu",
          "McCafe Menu",
          "McCafe Menu",
          "McCafe Menu",
          "McCafe Menu",
          "McCafe Menu",
          "McCafe Menu",
          "McCafe Menu",
          "McCafe Menu",
          "McCafe Menu",
          "McCafe Menu",
          "McCafe Menu",
          "McCafe Menu",
          "McCafe Menu",
          "McCafe Menu",
          "McCafe Menu",
          "McCafe Menu",
          "McCafe Menu",
          "McCafe Menu",
          "McCafe Menu",
          "McCafe Menu",
          "McCafe Menu",
          "McCafe Menu",
          "McCafe Menu",
          "McCafe Menu",
          "McCafe Menu",
          "McCafe Menu",
          "McCafe Menu",
          "McCafe Menu",
          "McCafe Menu",
          "McCafe Menu",
          "McCafe Menu",
          "McCafe Menu",
          "McCafe Menu",
          "McCafe Menu",
          "McCafe Menu",
          "McCafe Menu",
          "McCafe Menu",
          "Desserts Menu",
          "Desserts Menu",
          "Gourmet Menu",
          "Gourmet Menu",
          "Gourmet Menu",
          "Gourmet Menu",
          "Gourmet Menu",
          "Gourmet Menu",
          "Gourmet Menu",
          "Gourmet Menu",
          "Gourmet Menu",
          "Gourmet Menu",
          "Gourmet Menu",
          "Beverages Menu",
          "Beverages Menu",
          "Beverages Menu",
          "Beverages Menu",
          "Beverages Menu",
          "Beverages Menu",
          "Beverages Menu",
          "Beverages Menu",
          "Beverages Menu",
          "Beverages Menu",
          "Beverages Menu",
          "Beverages Menu",
          "Beverages Menu",
          "Beverages Menu",
          "Beverages Menu",
          "Beverages Menu",
          "Beverages Menu",
          "Condiments Menu",
          "Condiments Menu",
          "Condiments Menu",
          "Condiments Menu",
          "Condiments Menu",
          "Condiments Menu",
          "Condiments Menu",
          "Condiments Menu",
          "Condiments Menu"
         ],
         "xaxis": "x6",
         "y": [
          4.49,
          4.07,
          5.27,
          1.08,
          4.76,
          6.92,
          1.15,
          0.35,
          4.49,
          3.54,
          4.49,
          1.08,
          6.14,
          4.76,
          3.49,
          1.15,
          3.64,
          3.64,
          0.35,
          0,
          0,
          0,
          0,
          0,
          0,
          0,
          0,
          0,
          0,
          0,
          0,
          0,
          0,
          0,
          0,
          0,
          0.75,
          0.75,
          1.05,
          0.75,
          0.75,
          0.75,
          13.5,
          0,
          0,
          0,
          0,
          0,
          0,
          0,
          0,
          0,
          0,
          0,
          0,
          0,
          0,
          0,
          6.08,
          9.12,
          12.16,
          9.21,
          15.29,
          21.37,
          24.41,
          1.04,
          1.35,
          0,
          0,
          0,
          0,
          0,
          0,
          0,
          0,
          0,
          25.6,
          20.27,
          19.94,
          17.5,
          27.51,
          36.63,
          44.35,
          29.8,
          27.88,
          29.72,
          33.65,
          19.28,
          20.52,
          28.08,
          14,
          34.35,
          6.99,
          11.31,
          10.78,
          16.9,
          12.49,
          20.32,
          14.39,
          20.28,
          19.94,
          35.22,
          10.8,
          19.23,
          3.84,
          3.84,
          10.01,
          10.01,
          6.32,
          2.64,
          3.28,
          6.32,
          6.67,
          0,
          0,
          27.39,
          37.84,
          54.34,
          32.37,
          44.72,
          64.22,
          24.9,
          34.4,
          49.4,
          29.88,
          41.28,
          59.28,
          24.54,
          27.74,
          26.14,
          0,
          0,
          4,
          2.5,
          1.34,
          0.4,
          1.64,
          5.34,
          0,
          0,
          0
         ],
         "yaxis": "y6"
        },
        {
         "alignmentgroup": "True",
         "bingroup": "x",
         "histfunc": "avg",
         "hovertemplate": "Menu Category=%{x}<br>avg of Sat Fat (g)=%{y}<extra></extra>",
         "legendgroup": "",
         "marker": {
          "color": "#5769fe",
          "pattern": {
           "shape": ""
          }
         },
         "name": "",
         "offsetgroup": "",
         "orientation": "v",
         "showlegend": false,
         "texttemplate": "%{value}",
         "type": "histogram",
         "x": [
          "Regular Menu",
          "Regular Menu",
          "Regular Menu",
          "Regular Menu",
          "Regular Menu",
          "Regular Menu",
          "Regular Menu",
          "Regular Menu",
          "Regular Menu",
          "Regular Menu",
          "Regular Menu",
          "Regular Menu",
          "Regular Menu",
          "Regular Menu",
          "Regular Menu",
          "Regular Menu",
          "Regular Menu",
          "Regular Menu",
          "Regular Menu",
          "Regular Menu",
          "Regular Menu",
          "Regular Menu",
          "Regular Menu",
          "Regular Menu",
          "Regular Menu",
          "Regular Menu",
          "Regular Menu",
          "Regular Menu",
          "Regular Menu",
          "Regular Menu",
          "Regular Menu",
          "Regular Menu",
          "Regular Menu",
          "Regular Menu",
          "Regular Menu",
          "Regular Menu",
          "Breakfast Menu",
          "Breakfast Menu",
          "Breakfast Menu",
          "Breakfast Menu",
          "Breakfast Menu",
          "Breakfast Menu",
          "Breakfast Menu",
          "Breakfast Menu",
          "Breakfast Menu",
          "Breakfast Menu",
          "Breakfast Menu",
          "Breakfast Menu",
          "Breakfast Menu",
          "Breakfast Menu",
          "Breakfast Menu",
          "McCafe Menu",
          "McCafe Menu",
          "McCafe Menu",
          "McCafe Menu",
          "McCafe Menu",
          "McCafe Menu",
          "McCafe Menu",
          "McCafe Menu",
          "McCafe Menu",
          "McCafe Menu",
          "McCafe Menu",
          "McCafe Menu",
          "McCafe Menu",
          "McCafe Menu",
          "McCafe Menu",
          "McCafe Menu",
          "McCafe Menu",
          "McCafe Menu",
          "McCafe Menu",
          "McCafe Menu",
          "McCafe Menu",
          "McCafe Menu",
          "McCafe Menu",
          "McCafe Menu",
          "McCafe Menu",
          "McCafe Menu",
          "McCafe Menu",
          "McCafe Menu",
          "McCafe Menu",
          "McCafe Menu",
          "McCafe Menu",
          "McCafe Menu",
          "McCafe Menu",
          "McCafe Menu",
          "McCafe Menu",
          "McCafe Menu",
          "McCafe Menu",
          "McCafe Menu",
          "McCafe Menu",
          "McCafe Menu",
          "McCafe Menu",
          "McCafe Menu",
          "McCafe Menu",
          "McCafe Menu",
          "McCafe Menu",
          "McCafe Menu",
          "McCafe Menu",
          "McCafe Menu",
          "McCafe Menu",
          "McCafe Menu",
          "McCafe Menu",
          "Desserts Menu",
          "Desserts Menu",
          "Gourmet Menu",
          "Gourmet Menu",
          "Gourmet Menu",
          "Gourmet Menu",
          "Gourmet Menu",
          "Gourmet Menu",
          "Gourmet Menu",
          "Gourmet Menu",
          "Gourmet Menu",
          "Gourmet Menu",
          "Gourmet Menu",
          "Beverages Menu",
          "Beverages Menu",
          "Beverages Menu",
          "Beverages Menu",
          "Beverages Menu",
          "Beverages Menu",
          "Beverages Menu",
          "Beverages Menu",
          "Beverages Menu",
          "Beverages Menu",
          "Beverages Menu",
          "Beverages Menu",
          "Beverages Menu",
          "Beverages Menu",
          "Beverages Menu",
          "Beverages Menu",
          "Beverages Menu",
          "Condiments Menu",
          "Condiments Menu",
          "Condiments Menu",
          "Condiments Menu",
          "Condiments Menu",
          "Condiments Menu",
          "Condiments Menu",
          "Condiments Menu",
          "Condiments Menu"
         ],
         "xaxis": "x8",
         "y": [
          5.34,
          4.27,
          17.12,
          19.73,
          10.51,
          16.83,
          6.11,
          5.72,
          5.47,
          5.79,
          7.63,
          12.54,
          10.33,
          7.28,
          4.84,
          3.27,
          3.64,
          3.63,
          5.08,
          2.82,
          4.45,
          6.68,
          10.02,
          11.41,
          17.12,
          0.15,
          4.97,
          7.04,
          9.95,
          3.39,
          4.64,
          6.43,
          0,
          1.2,
          7.14,
          7.14,
          7.29,
          8.84,
          3.43,
          6.04,
          8.08,
          6.92,
          7.11,
          3.42,
          0.03,
          1.49,
          0.03,
          0.05,
          0.06,
          5.15,
          7.37,
          8.85,
          6.18,
          7.67,
          9.43,
          7.06,
          8.84,
          10.31,
          5.94,
          7.17,
          8.67,
          3.08,
          5.49,
          6.13,
          9.09,
          4.27,
          4.49,
          0.28,
          0.33,
          0.46,
          0.28,
          0.33,
          0.46,
          0.28,
          0.33,
          0.46,
          0.17,
          0.16,
          0.16,
          3.26,
          13.91,
          14,
          15.91,
          6.68,
          6.74,
          2.65,
          2.64,
          0.04,
          0.04,
          0,
          2.62,
          11.38,
          1.31,
          5.25,
          3.01,
          5.16,
          1.3,
          1.74,
          3.65,
          4.71,
          3.66,
          6.47,
          2.25,
          4.07,
          11.56,
          14.78,
          14.12,
          17,
          9.54,
          15.55,
          20.46,
          4.01,
          6.01,
          7.53,
          11.3,
          0,
          0,
          0,
          0,
          0,
          0,
          0,
          0,
          0,
          0,
          0,
          0,
          1.28,
          1.28,
          1.28,
          0,
          0,
          1.78,
          0.15,
          0.01,
          0.08,
          0,
          0,
          2.89,
          0.22,
          0.02
         ],
         "yaxis": "y8"
        }
       ],
       "layout": {
        "annotations": [
         {
          "font": {
           "size": 16
          },
          "showarrow": false,
          "text": "Media Proteina",
          "x": 0.225,
          "xanchor": "center",
          "xref": "paper",
          "y": 1,
          "yanchor": "bottom",
          "yref": "paper"
         },
         {
          "font": {
           "size": 16
          },
          "showarrow": false,
          "text": "Media Gordura Trans ",
          "x": 0.775,
          "xanchor": "center",
          "xref": "paper",
          "y": 1,
          "yanchor": "bottom",
          "yref": "paper"
         },
         {
          "font": {
           "size": 16
          },
          "showarrow": false,
          "text": "Media Sodio",
          "x": 0.225,
          "xanchor": "center",
          "xref": "paper",
          "y": 0.78,
          "yanchor": "bottom",
          "yref": "paper"
         },
         {
          "font": {
           "size": 16
          },
          "showarrow": false,
          "text": "Media Carboidrato ",
          "x": 0.775,
          "xanchor": "center",
          "xref": "paper",
          "y": 0.78,
          "yanchor": "bottom",
          "yref": "paper"
         },
         {
          "font": {
           "size": 16
          },
          "showarrow": false,
          "text": "Media Gordura ",
          "x": 0.225,
          "xanchor": "center",
          "xref": "paper",
          "y": 0.56,
          "yanchor": "bottom",
          "yref": "paper"
         },
         {
          "font": {
           "size": 16
          },
          "showarrow": false,
          "text": "Media Acuçar Adicional",
          "x": 0.775,
          "xanchor": "center",
          "xref": "paper",
          "y": 0.56,
          "yanchor": "bottom",
          "yref": "paper"
         },
         {
          "font": {
           "size": 16
          },
          "showarrow": false,
          "text": "Media Acuçar",
          "x": 0.225,
          "xanchor": "center",
          "xref": "paper",
          "y": 0.33999999999999997,
          "yanchor": "bottom",
          "yref": "paper"
         },
         {
          "font": {
           "size": 16
          },
          "showarrow": false,
          "text": "Media Gordura Saturada",
          "x": 0.775,
          "xanchor": "center",
          "xref": "paper",
          "y": 0.33999999999999997,
          "yanchor": "bottom",
          "yref": "paper"
         },
         {
          "font": {
           "size": 16
          },
          "showarrow": false,
          "text": "Media Calorias",
          "x": 0.225,
          "xanchor": "center",
          "xref": "paper",
          "y": 0.12,
          "yanchor": "bottom",
          "yref": "paper"
         },
         {
          "font": {
           "size": 16
          },
          "showarrow": false,
          "text": "Media Colesterol",
          "x": 0.775,
          "xanchor": "center",
          "xref": "paper",
          "y": 0.12,
          "yanchor": "bottom",
          "yref": "paper"
         }
        ],
        "font": {
         "size": 18
        },
        "height": 800,
        "template": {
         "data": {
          "bar": [
           {
            "error_x": {
             "color": "#f2f5fa"
            },
            "error_y": {
             "color": "#f2f5fa"
            },
            "marker": {
             "line": {
              "color": "rgb(17,17,17)",
              "width": 0.5
             },
             "pattern": {
              "fillmode": "overlay",
              "size": 10,
              "solidity": 0.2
             }
            },
            "type": "bar"
           }
          ],
          "barpolar": [
           {
            "marker": {
             "line": {
              "color": "rgb(17,17,17)",
              "width": 0.5
             },
             "pattern": {
              "fillmode": "overlay",
              "size": 10,
              "solidity": 0.2
             }
            },
            "type": "barpolar"
           }
          ],
          "carpet": [
           {
            "aaxis": {
             "endlinecolor": "#A2B1C6",
             "gridcolor": "#506784",
             "linecolor": "#506784",
             "minorgridcolor": "#506784",
             "startlinecolor": "#A2B1C6"
            },
            "baxis": {
             "endlinecolor": "#A2B1C6",
             "gridcolor": "#506784",
             "linecolor": "#506784",
             "minorgridcolor": "#506784",
             "startlinecolor": "#A2B1C6"
            },
            "type": "carpet"
           }
          ],
          "choropleth": [
           {
            "colorbar": {
             "outlinewidth": 0,
             "ticks": ""
            },
            "type": "choropleth"
           }
          ],
          "contour": [
           {
            "colorbar": {
             "outlinewidth": 0,
             "ticks": ""
            },
            "colorscale": [
             [
              0,
              "#0d0887"
             ],
             [
              0.1111111111111111,
              "#46039f"
             ],
             [
              0.2222222222222222,
              "#7201a8"
             ],
             [
              0.3333333333333333,
              "#9c179e"
             ],
             [
              0.4444444444444444,
              "#bd3786"
             ],
             [
              0.5555555555555556,
              "#d8576b"
             ],
             [
              0.6666666666666666,
              "#ed7953"
             ],
             [
              0.7777777777777778,
              "#fb9f3a"
             ],
             [
              0.8888888888888888,
              "#fdca26"
             ],
             [
              1,
              "#f0f921"
             ]
            ],
            "type": "contour"
           }
          ],
          "contourcarpet": [
           {
            "colorbar": {
             "outlinewidth": 0,
             "ticks": ""
            },
            "type": "contourcarpet"
           }
          ],
          "heatmap": [
           {
            "colorbar": {
             "outlinewidth": 0,
             "ticks": ""
            },
            "colorscale": [
             [
              0,
              "#0d0887"
             ],
             [
              0.1111111111111111,
              "#46039f"
             ],
             [
              0.2222222222222222,
              "#7201a8"
             ],
             [
              0.3333333333333333,
              "#9c179e"
             ],
             [
              0.4444444444444444,
              "#bd3786"
             ],
             [
              0.5555555555555556,
              "#d8576b"
             ],
             [
              0.6666666666666666,
              "#ed7953"
             ],
             [
              0.7777777777777778,
              "#fb9f3a"
             ],
             [
              0.8888888888888888,
              "#fdca26"
             ],
             [
              1,
              "#f0f921"
             ]
            ],
            "type": "heatmap"
           }
          ],
          "heatmapgl": [
           {
            "colorbar": {
             "outlinewidth": 0,
             "ticks": ""
            },
            "colorscale": [
             [
              0,
              "#0d0887"
             ],
             [
              0.1111111111111111,
              "#46039f"
             ],
             [
              0.2222222222222222,
              "#7201a8"
             ],
             [
              0.3333333333333333,
              "#9c179e"
             ],
             [
              0.4444444444444444,
              "#bd3786"
             ],
             [
              0.5555555555555556,
              "#d8576b"
             ],
             [
              0.6666666666666666,
              "#ed7953"
             ],
             [
              0.7777777777777778,
              "#fb9f3a"
             ],
             [
              0.8888888888888888,
              "#fdca26"
             ],
             [
              1,
              "#f0f921"
             ]
            ],
            "type": "heatmapgl"
           }
          ],
          "histogram": [
           {
            "marker": {
             "pattern": {
              "fillmode": "overlay",
              "size": 10,
              "solidity": 0.2
             }
            },
            "type": "histogram"
           }
          ],
          "histogram2d": [
           {
            "colorbar": {
             "outlinewidth": 0,
             "ticks": ""
            },
            "colorscale": [
             [
              0,
              "#0d0887"
             ],
             [
              0.1111111111111111,
              "#46039f"
             ],
             [
              0.2222222222222222,
              "#7201a8"
             ],
             [
              0.3333333333333333,
              "#9c179e"
             ],
             [
              0.4444444444444444,
              "#bd3786"
             ],
             [
              0.5555555555555556,
              "#d8576b"
             ],
             [
              0.6666666666666666,
              "#ed7953"
             ],
             [
              0.7777777777777778,
              "#fb9f3a"
             ],
             [
              0.8888888888888888,
              "#fdca26"
             ],
             [
              1,
              "#f0f921"
             ]
            ],
            "type": "histogram2d"
           }
          ],
          "histogram2dcontour": [
           {
            "colorbar": {
             "outlinewidth": 0,
             "ticks": ""
            },
            "colorscale": [
             [
              0,
              "#0d0887"
             ],
             [
              0.1111111111111111,
              "#46039f"
             ],
             [
              0.2222222222222222,
              "#7201a8"
             ],
             [
              0.3333333333333333,
              "#9c179e"
             ],
             [
              0.4444444444444444,
              "#bd3786"
             ],
             [
              0.5555555555555556,
              "#d8576b"
             ],
             [
              0.6666666666666666,
              "#ed7953"
             ],
             [
              0.7777777777777778,
              "#fb9f3a"
             ],
             [
              0.8888888888888888,
              "#fdca26"
             ],
             [
              1,
              "#f0f921"
             ]
            ],
            "type": "histogram2dcontour"
           }
          ],
          "mesh3d": [
           {
            "colorbar": {
             "outlinewidth": 0,
             "ticks": ""
            },
            "type": "mesh3d"
           }
          ],
          "parcoords": [
           {
            "line": {
             "colorbar": {
              "outlinewidth": 0,
              "ticks": ""
             }
            },
            "type": "parcoords"
           }
          ],
          "pie": [
           {
            "automargin": true,
            "type": "pie"
           }
          ],
          "scatter": [
           {
            "marker": {
             "line": {
              "color": "#1a0933"
             }
            },
            "type": "scatter"
           }
          ],
          "scatter3d": [
           {
            "line": {
             "colorbar": {
              "outlinewidth": 0,
              "ticks": ""
             }
            },
            "marker": {
             "colorbar": {
              "outlinewidth": 0,
              "ticks": ""
             }
            },
            "type": "scatter3d"
           }
          ],
          "scattercarpet": [
           {
            "marker": {
             "colorbar": {
              "outlinewidth": 0,
              "ticks": ""
             }
            },
            "type": "scattercarpet"
           }
          ],
          "scattergeo": [
           {
            "marker": {
             "colorbar": {
              "outlinewidth": 0,
              "ticks": ""
             }
            },
            "type": "scattergeo"
           }
          ],
          "scattergl": [
           {
            "marker": {
             "line": {
              "color": "#1a0933"
             }
            },
            "type": "scattergl"
           }
          ],
          "scattermapbox": [
           {
            "marker": {
             "colorbar": {
              "outlinewidth": 0,
              "ticks": ""
             }
            },
            "type": "scattermapbox"
           }
          ],
          "scatterpolar": [
           {
            "marker": {
             "colorbar": {
              "outlinewidth": 0,
              "ticks": ""
             }
            },
            "type": "scatterpolar"
           }
          ],
          "scatterpolargl": [
           {
            "marker": {
             "colorbar": {
              "outlinewidth": 0,
              "ticks": ""
             }
            },
            "type": "scatterpolargl"
           }
          ],
          "scatterternary": [
           {
            "marker": {
             "colorbar": {
              "outlinewidth": 0,
              "ticks": ""
             }
            },
            "type": "scatterternary"
           }
          ],
          "surface": [
           {
            "colorbar": {
             "outlinewidth": 0,
             "ticks": ""
            },
            "colorscale": [
             [
              0,
              "#0d0887"
             ],
             [
              0.1111111111111111,
              "#46039f"
             ],
             [
              0.2222222222222222,
              "#7201a8"
             ],
             [
              0.3333333333333333,
              "#9c179e"
             ],
             [
              0.4444444444444444,
              "#bd3786"
             ],
             [
              0.5555555555555556,
              "#d8576b"
             ],
             [
              0.6666666666666666,
              "#ed7953"
             ],
             [
              0.7777777777777778,
              "#fb9f3a"
             ],
             [
              0.8888888888888888,
              "#fdca26"
             ],
             [
              1,
              "#f0f921"
             ]
            ],
            "type": "surface"
           }
          ],
          "table": [
           {
            "cells": {
             "fill": {
              "color": "#506784"
             },
             "line": {
              "color": "rgb(17,17,17)"
             }
            },
            "header": {
             "fill": {
              "color": "#2a3f5f"
             },
             "line": {
              "color": "rgb(17,17,17)"
             }
            },
            "type": "table"
           }
          ]
         },
         "layout": {
          "annotationdefaults": {
           "arrowcolor": "#f2f5fa",
           "arrowhead": 0,
           "arrowwidth": 1,
           "font": {
            "color": "#32fbe2"
           }
          },
          "autotypenumbers": "strict",
          "coloraxis": {
           "colorbar": {
            "outlinewidth": 0,
            "ticks": ""
           }
          },
          "colorscale": {
           "diverging": [
            [
             0,
             "#8e0152"
            ],
            [
             0.1,
             "#c51b7d"
            ],
            [
             0.2,
             "#de77ae"
            ],
            [
             0.3,
             "#f1b6da"
            ],
            [
             0.4,
             "#fde0ef"
            ],
            [
             0.5,
             "#f7f7f7"
            ],
            [
             0.6,
             "#e6f5d0"
            ],
            [
             0.7,
             "#b8e186"
            ],
            [
             0.8,
             "#7fbc41"
            ],
            [
             0.9,
             "#4d9221"
            ],
            [
             1,
             "#276419"
            ]
           ],
           "sequential": [
            [
             0,
             "#6f42c1"
            ],
            [
             0.1,
             "#8149bb"
            ],
            [
             0.2,
             "#924fb5"
            ],
            [
             0.30000000000000004,
             "#a456b0"
            ],
            [
             0.4,
             "#b65caa"
            ],
            [
             0.5,
             "#c763a4"
            ],
            [
             0.6000000000000001,
             "#d96a9e"
            ],
            [
             0.7000000000000001,
             "#eb7099"
            ],
            [
             0.8,
             "#fc7793"
            ],
            [
             0.9,
             "#ff7d8d"
            ],
            [
             1,
             "#ff8487"
            ]
           ],
           "sequentialminus": [
            [
             0,
             "#0d0887"
            ],
            [
             0.1111111111111111,
             "#46039f"
            ],
            [
             0.2222222222222222,
             "#7201a8"
            ],
            [
             0.3333333333333333,
             "#9c179e"
            ],
            [
             0.4444444444444444,
             "#bd3786"
            ],
            [
             0.5555555555555556,
             "#d8576b"
            ],
            [
             0.6666666666666666,
             "#ed7953"
            ],
            [
             0.7777777777777778,
             "#fb9f3a"
            ],
            [
             0.8888888888888888,
             "#fdca26"
            ],
            [
             1,
             "#f0f921"
            ]
           ]
          },
          "colorway": [
           "#6829ad",
           "#e14b56",
           "#06a843",
           "#f7c200",
           "#51a0f6"
          ],
          "font": {
           "color": "#32fbe2",
           "family": "Lato,-apple-system,BlinkMacSystemFont,\"Segoe UI\",Roboto,\"Helvetica Neue\",Arial,sans-serif,\"Apple Color Emoji\",\"Segoe UI Emoji\",\"Segoe UI Symbol\""
          },
          "geo": {
           "bgcolor": "#1a0933",
           "lakecolor": "#1a0933",
           "landcolor": "#1a0933",
           "showlakes": true,
           "showland": true,
           "subunitcolor": "#506784"
          },
          "hoverlabel": {
           "align": "left",
           "font": {
            "family": "Lato,-apple-system,BlinkMacSystemFont,\"Segoe UI\",Roboto,\"Helvetica Neue\",Arial,sans-serif,\"Apple Color Emoji\",\"Segoe UI Emoji\",\"Segoe UI Symbol\""
           }
          },
          "hovermode": "closest",
          "mapbox": {
           "style": "dark"
          },
          "paper_bgcolor": "#1a0933",
          "piecolorway": [
           "#6829ad",
           "#e14b56",
           "#06a843",
           "#f7c200",
           "#51a0f6"
          ],
          "plot_bgcolor": "#1a0933",
          "polar": {
           "angularaxis": {
            "gridcolor": "#506784",
            "linecolor": "#506784",
            "ticks": ""
           },
           "bgcolor": "rgb(17,17,17)",
           "radialaxis": {
            "gridcolor": "#506784",
            "linecolor": "#506784",
            "ticks": ""
           }
          },
          "scene": {
           "xaxis": {
            "backgroundcolor": "rgb(17,17,17)",
            "gridcolor": "#506784",
            "gridwidth": 2,
            "linecolor": "#506784",
            "showbackground": true,
            "ticks": "",
            "zerolinecolor": "#C8D4E3"
           },
           "yaxis": {
            "backgroundcolor": "rgb(17,17,17)",
            "gridcolor": "#506784",
            "gridwidth": 2,
            "linecolor": "#506784",
            "showbackground": true,
            "ticks": "",
            "zerolinecolor": "#C8D4E3"
           },
           "zaxis": {
            "backgroundcolor": "rgb(17,17,17)",
            "gridcolor": "#506784",
            "gridwidth": 2,
            "linecolor": "#506784",
            "showbackground": true,
            "ticks": "",
            "zerolinecolor": "#C8D4E3"
           }
          },
          "shapedefaults": {
           "line": {
            "color": "#f2f5fa"
           }
          },
          "sliderdefaults": {
           "bgcolor": "#C8D4E3",
           "bordercolor": "rgb(17,17,17)",
           "borderwidth": 1,
           "tickwidth": 0
          },
          "ternary": {
           "aaxis": {
            "gridcolor": "#506784",
            "linecolor": "#506784",
            "ticks": ""
           },
           "baxis": {
            "gridcolor": "#506784",
            "linecolor": "#506784",
            "ticks": ""
           },
           "bgcolor": "rgb(17,17,17)",
           "caxis": {
            "gridcolor": "#506784",
            "linecolor": "#506784",
            "ticks": ""
           }
          },
          "title": {
           "x": 0.05
          },
          "updatemenudefaults": {
           "bgcolor": "#506784",
           "borderwidth": 0
          },
          "xaxis": {
           "automargin": true,
           "gridcolor": "#1c1c41",
           "gridwidth": 0.5,
           "linecolor": "#506784",
           "ticks": "",
           "title": {
            "standoff": 15
           },
           "zerolinecolor": "#1c1c41",
           "zerolinewidth": 2
          },
          "yaxis": {
           "automargin": true,
           "gridcolor": "#1c1c41",
           "gridwidth": 0.5,
           "linecolor": "#506784",
           "ticks": "",
           "title": {
            "standoff": 15
           },
           "zerolinecolor": "#1c1c41",
           "zerolinewidth": 2
          }
         }
        },
        "xaxis": {
         "anchor": "y",
         "domain": [
          0,
          0.45
         ]
        },
        "xaxis10": {
         "anchor": "y10",
         "domain": [
          0.55,
          1
         ],
         "matches": "x9"
        },
        "xaxis2": {
         "anchor": "y2",
         "domain": [
          0.55,
          1
         ],
         "matches": "x"
        },
        "xaxis3": {
         "anchor": "y3",
         "domain": [
          0,
          0.45
         ]
        },
        "xaxis4": {
         "anchor": "y4",
         "domain": [
          0.55,
          1
         ],
         "matches": "x3"
        },
        "xaxis5": {
         "anchor": "y5",
         "domain": [
          0,
          0.45
         ]
        },
        "xaxis6": {
         "anchor": "y6",
         "domain": [
          0.55,
          1
         ],
         "matches": "x5"
        },
        "xaxis7": {
         "anchor": "y7",
         "domain": [
          0,
          0.45
         ]
        },
        "xaxis8": {
         "anchor": "y8",
         "domain": [
          0.55,
          1
         ],
         "matches": "x7"
        },
        "xaxis9": {
         "anchor": "y9",
         "domain": [
          0,
          0.45
         ]
        },
        "yaxis": {
         "anchor": "x",
         "domain": [
          0.88,
          1
         ],
         "tickformat": ".2f"
        },
        "yaxis10": {
         "anchor": "x10",
         "domain": [
          0,
          0.12
         ],
         "tickformat": ".2f"
        },
        "yaxis2": {
         "anchor": "x2",
         "domain": [
          0.88,
          1
         ],
         "tickformat": ".2f"
        },
        "yaxis3": {
         "anchor": "x3",
         "domain": [
          0.66,
          0.78
         ],
         "tickformat": ".2f"
        },
        "yaxis4": {
         "anchor": "x4",
         "domain": [
          0.66,
          0.78
         ],
         "tickformat": ".2f"
        },
        "yaxis5": {
         "anchor": "x5",
         "domain": [
          0.44,
          0.56
         ],
         "tickformat": ".2f"
        },
        "yaxis6": {
         "anchor": "x6",
         "domain": [
          0.44,
          0.56
         ],
         "tickformat": ".2f"
        },
        "yaxis7": {
         "anchor": "x7",
         "domain": [
          0.22,
          0.33999999999999997
         ],
         "tickformat": ".2f"
        },
        "yaxis8": {
         "anchor": "x8",
         "domain": [
          0.22,
          0.33999999999999997
         ],
         "tickformat": ".2f"
        },
        "yaxis9": {
         "anchor": "x9",
         "domain": [
          0,
          0.12
         ],
         "tickformat": ".2f"
        }
       }
      }
     },
     "metadata": {},
     "output_type": "display_data"
    }
   ],
   "source": [
    "grafico04('Energy (kCal)','Protein (g)','Sodium (mg)', 'Total fat (g)','Total Sugars (g)',\n",
    "          'Cholesterols (mg)','Trans fat (g)','Total carbohydrate (g)','Added Sugars (g)','Sat Fat (g)',\n",
    "            'Media Proteina','Media Gordura Trans ','Media Sodio','Media Carboidrato ','Media Gordura ',\n",
    "            'Media Acuçar Adicional','Media Acuçar','Media Gordura Saturada','Media Calorias','Media Colesterol',)"
   ]
  },
  {
   "cell_type": "code",
   "execution_count": 13,
   "id": "083541c6",
   "metadata": {},
   "outputs": [],
   "source": [
    "def media_desvio_padrao(menu,categoria):\n",
    "    filtromenu = tabela[tabela['Menu Category'] == menu]\n",
    "    media = filtromenu[categoria].mean().round()\n",
    "    desvio_padrao = filtromenu[categoria].std().round()\n",
    "    print(f'Media de {categoria} do {menu} e = {media}')\n",
    "    print(f'desvio padrao de {categoria} do {menu} e = {desvio_padrao}')"
   ]
  },
  {
   "cell_type": "code",
   "execution_count": 14,
   "id": "3458c5ad",
   "metadata": {},
   "outputs": [
    {
     "name": "stdout",
     "output_type": "stream",
     "text": [
      "Media de Energy (kCal) do McCafe Menu e = 183.0\n",
      "desvio padrao de Energy (kCal) do McCafe Menu e = 120.0\n"
     ]
    }
   ],
   "source": [
    "media_desvio_padrao('McCafe Menu','Energy (kCal)')"
   ]
  },
  {
   "cell_type": "code",
   "execution_count": 15,
   "id": "d6716efc",
   "metadata": {},
   "outputs": [
    {
     "data": {
      "image/png": "[encoded data removed]"
     },
     "metadata": {},
     "output_type": "display_data"
    }
   ],
   "source": [
    "fig = px.box(tabela, x = 'Menu Category', y = 'Energy (kCal)' ,template = 'cyborg',width=1400)\n",
    "fig.update_layout(xaxis=dict(tickfont=dict(size=22)))\n",
    "fig.show('png')"
   ]
  },
  {
   "cell_type": "code",
   "execution_count": 16,
   "id": "3bd40991",
   "metadata": {},
   "outputs": [
    {
     "data": {
      "image/png": "[encoded data removed]"
     },
     "metadata": {},
     "output_type": "display_data"
    }
   ],
   "source": [
    "fig = px.box(tabela, x = 'Menu Category', y = 'Total fat (g)' ,template = 'cyborg',width=1400)\n",
    "fig.update_layout(xaxis=dict(tickfont=dict(size=22)))\n",
    "fig.show('png')"
   ]
  },
  {
   "cell_type": "code",
   "execution_count": 17,
   "id": "1045131d",
   "metadata": {},
   "outputs": [],
   "source": [
    "tabela2 = tabela.drop(['Menu Category','Menu Items','Per Serve Size','Sodium (mg)'],axis=1)"
   ]
  },
  {
   "cell_type": "code",
   "execution_count": 18,
   "id": "390ad1f4",
   "metadata": {},
   "outputs": [
    {
     "data": {
      "text/plain": [
       "array([[3.10016129e+02, 9.67854839e+00, 1.23559677e+01, 6.58725806e+00,\n",
       "        1.38564516e+00, 3.86275806e+01, 3.92580645e+01, 1.86812903e+01,\n",
       "        1.13427419e+01],\n",
       "       [9.40615385e+01, 1.90584615e+00, 2.74338462e+00, 1.64076923e+00,\n",
       "        1.18769231e-01, 5.78430769e+00, 1.61846154e+01, 1.38427692e+01,\n",
       "        1.05521538e+01],\n",
       "       [6.49214286e+02, 2.37600000e+01, 3.31742857e+01, 1.35428571e+01,\n",
       "        2.32857143e-01, 6.74621429e+01, 6.05714286e+01, 8.75214286e+00,\n",
       "        4.88357143e+00]])"
      ]
     },
     "execution_count": 18,
     "metadata": {},
     "output_type": "execute_result"
    }
   ],
   "source": [
    "from sklearn.cluster import KMeans\n",
    "\n",
    "# Criando o modelo K-Means com 3 clusters\n",
    "kmeans = KMeans(n_clusters=3,random_state=10)\n",
    "\n",
    "# Treinando o modelo\n",
    "kmeans.fit(tabela2)\n",
    "\n",
    "# Obtendo os rótulos dos clusters\n",
    "labels = kmeans.labels_\n",
    "\n",
    "# Obtendo os centróides dos clusters\n",
    "centroids = kmeans.cluster_centers_\n",
    "centroids"
   ]
  },
  {
   "cell_type": "code",
   "execution_count": 19,
   "id": "e0dceb15",
   "metadata": {},
   "outputs": [
    {
     "data": {
      "text/plain": [
       "array([0, 0, 2, 2, 2, 2, 0, 0, 0, 0, 0, 2, 2, 0, 0, 0, 0, 0, 2, 0, 1, 0,\n",
       "       0, 1, 0, 0, 0, 0, 0, 1, 0, 0, 1, 1, 0, 0, 0, 0, 0, 0, 0, 0, 0, 1,\n",
       "       1, 1, 1, 1, 1, 1, 1, 0, 1, 1, 0, 1, 0, 0, 1, 0, 0, 1, 0, 0, 0, 0,\n",
       "       0, 1, 1, 1, 1, 1, 1, 1, 1, 1, 1, 1, 1, 1, 0, 0, 0, 0, 0, 0, 0, 1,\n",
       "       1, 1, 1, 0, 1, 1, 1, 1, 1, 1, 0, 0, 0, 0, 1, 0, 0, 2, 2, 2, 2, 2,\n",
       "       2, 0, 2, 0, 0, 1, 1, 0, 1, 1, 0, 1, 1, 1, 1, 1, 0, 1, 1, 1, 1, 1,\n",
       "       1, 1, 1, 1, 1, 1, 1, 1, 1])"
      ]
     },
     "execution_count": 19,
     "metadata": {},
     "output_type": "execute_result"
    }
   ],
   "source": [
    "labels"
   ]
  },
  {
   "cell_type": "code",
   "execution_count": 20,
   "id": "19064e4b",
   "metadata": {},
   "outputs": [
    {
     "data": {
      "text/html": [
       "<div>\n",
       "<style scoped>\n",
       "    .dataframe tbody tr th:only-of-type {\n",
       "        vertical-align: middle;\n",
       "    }\n",
       "\n",
       "    .dataframe tbody tr th {\n",
       "        vertical-align: top;\n",
       "    }\n",
       "\n",
       "    .dataframe thead th {\n",
       "        text-align: right;\n",
       "    }\n",
       "</style>\n",
       "<table border=\"1\" class=\"dataframe\">\n",
       "  <thead>\n",
       "    <tr style=\"text-align: right;\">\n",
       "      <th></th>\n",
       "      <th>Menu Category</th>\n",
       "      <th>Menu Items</th>\n",
       "      <th>Per Serve Size</th>\n",
       "      <th>Energy (kCal)</th>\n",
       "      <th>Protein (g)</th>\n",
       "      <th>Total fat (g)</th>\n",
       "      <th>Sat Fat (g)</th>\n",
       "      <th>Trans fat (g)</th>\n",
       "      <th>Cholesterols (mg)</th>\n",
       "      <th>Total carbohydrate (g)</th>\n",
       "      <th>Total Sugars (g)</th>\n",
       "      <th>Added Sugars (g)</th>\n",
       "      <th>Sodium (mg)</th>\n",
       "      <th>grupos</th>\n",
       "    </tr>\n",
       "  </thead>\n",
       "  <tbody>\n",
       "    <tr>\n",
       "      <th>0</th>\n",
       "      <td>Regular Menu</td>\n",
       "      <td>McVeggie™ Burger</td>\n",
       "      <td>168 g</td>\n",
       "      <td>402</td>\n",
       "      <td>10.24</td>\n",
       "      <td>13.83</td>\n",
       "      <td>5.34</td>\n",
       "      <td>0.16</td>\n",
       "      <td>2.49</td>\n",
       "      <td>56</td>\n",
       "      <td>7.90</td>\n",
       "      <td>4.49</td>\n",
       "      <td>706</td>\n",
       "      <td>0</td>\n",
       "    </tr>\n",
       "    <tr>\n",
       "      <th>1</th>\n",
       "      <td>Regular Menu</td>\n",
       "      <td>McAloo Tikki Burger®</td>\n",
       "      <td>146 g</td>\n",
       "      <td>339</td>\n",
       "      <td>8.50</td>\n",
       "      <td>11.31</td>\n",
       "      <td>4.27</td>\n",
       "      <td>0.20</td>\n",
       "      <td>1.47</td>\n",
       "      <td>50</td>\n",
       "      <td>7.05</td>\n",
       "      <td>4.07</td>\n",
       "      <td>545</td>\n",
       "      <td>0</td>\n",
       "    </tr>\n",
       "    <tr>\n",
       "      <th>2</th>\n",
       "      <td>Regular Menu</td>\n",
       "      <td>McSpicy™ Paneer Burger</td>\n",
       "      <td>199 g</td>\n",
       "      <td>652</td>\n",
       "      <td>20.29</td>\n",
       "      <td>39.45</td>\n",
       "      <td>17.12</td>\n",
       "      <td>0.18</td>\n",
       "      <td>21.85</td>\n",
       "      <td>52</td>\n",
       "      <td>8.35</td>\n",
       "      <td>5.27</td>\n",
       "      <td>1074</td>\n",
       "      <td>2</td>\n",
       "    </tr>\n",
       "    <tr>\n",
       "      <th>3</th>\n",
       "      <td>Regular Menu</td>\n",
       "      <td>Spicy Paneer Wrap</td>\n",
       "      <td>250 g</td>\n",
       "      <td>674</td>\n",
       "      <td>20.96</td>\n",
       "      <td>39.10</td>\n",
       "      <td>19.73</td>\n",
       "      <td>0.26</td>\n",
       "      <td>40.93</td>\n",
       "      <td>59</td>\n",
       "      <td>3.50</td>\n",
       "      <td>1.08</td>\n",
       "      <td>1087</td>\n",
       "      <td>2</td>\n",
       "    </tr>\n",
       "    <tr>\n",
       "      <th>4</th>\n",
       "      <td>Regular Menu</td>\n",
       "      <td>American Veg Burger</td>\n",
       "      <td>177 g</td>\n",
       "      <td>512</td>\n",
       "      <td>15.30</td>\n",
       "      <td>23.45</td>\n",
       "      <td>10.51</td>\n",
       "      <td>0.17</td>\n",
       "      <td>25.24</td>\n",
       "      <td>56</td>\n",
       "      <td>7.85</td>\n",
       "      <td>4.76</td>\n",
       "      <td>1051</td>\n",
       "      <td>2</td>\n",
       "    </tr>\n",
       "  </tbody>\n",
       "</table>\n",
       "</div>"
      ],
      "text/plain": [
       "  Menu Category              Menu Items Per Serve Size  Energy (kCal)  \\\n",
       "0  Regular Menu        McVeggie™ Burger          168 g            402   \n",
       "1  Regular Menu    McAloo Tikki Burger®          146 g            339   \n",
       "2  Regular Menu  McSpicy™ Paneer Burger          199 g            652   \n",
       "3  Regular Menu       Spicy Paneer Wrap          250 g            674   \n",
       "4  Regular Menu     American Veg Burger          177 g            512   \n",
       "\n",
       "   Protein (g)  Total fat (g)  Sat Fat (g)  Trans fat (g)  Cholesterols (mg)  \\\n",
       "0        10.24          13.83         5.34           0.16               2.49   \n",
       "1         8.50          11.31         4.27           0.20               1.47   \n",
       "2        20.29          39.45        17.12           0.18              21.85   \n",
       "3        20.96          39.10        19.73           0.26              40.93   \n",
       "4        15.30          23.45        10.51           0.17              25.24   \n",
       "\n",
       "   Total carbohydrate (g)  Total Sugars (g)  Added Sugars (g)  Sodium (mg)  \\\n",
       "0                      56              7.90              4.49          706   \n",
       "1                      50              7.05              4.07          545   \n",
       "2                      52              8.35              5.27         1074   \n",
       "3                      59              3.50              1.08         1087   \n",
       "4                      56              7.85              4.76         1051   \n",
       "\n",
       "   grupos  \n",
       "0       0  \n",
       "1       0  \n",
       "2       2  \n",
       "3       2  \n",
       "4       2  "
      ]
     },
     "execution_count": 20,
     "metadata": {},
     "output_type": "execute_result"
    }
   ],
   "source": [
    "tabela['grupos'] = labels\n",
    "tabela.head()"
   ]
  },
  {
   "cell_type": "code",
   "execution_count": 21,
   "id": "4ca0275c",
   "metadata": {},
   "outputs": [],
   "source": [
    "def ajustando(self):\n",
    "    if self == 0:\n",
    "        return 'media calorias'\n",
    "    if self == 1:\n",
    "        return 'baixa calorias'\n",
    "    if self == 2:\n",
    "        return 'alta calorias'"
   ]
  },
  {
   "cell_type": "code",
   "execution_count": 22,
   "id": "dbc76868",
   "metadata": {},
   "outputs": [],
   "source": [
    "tabela['grupos'] = tabela['grupos'].apply(ajustando)"
   ]
  },
  {
   "cell_type": "code",
   "execution_count": 23,
   "id": "12c54002",
   "metadata": {},
   "outputs": [
    {
     "data": {
      "application/vnd.plotly.v1+json": {
       "config": {
        "plotlyServerURL": "https://plot.ly"
       },
       "data": [
        {
         "hovertemplate": "<b>%{hovertext}</b><br><br>grupos=media calorias<br>Energy (kCal)=%{x}<br>Total carbohydrate (g)=%{y}<br>Total fat (g)=%{marker.size}<extra></extra>",
         "hovertext": [
          "McVeggie™ Burger",
          "McAloo Tikki Burger®",
          "Green Chilli Aloo Naan",
          "Pizza Puff",
          "Mc chicken Burger",
          "FILLET-O-FISH Burger",
          "Mc Spicy Chicken Burger",
          "American Chicken Burger",
          "Chicken Kebab Burger",
          "Green Chilli Kebab naan",
          "Mc Egg Masala Burger",
          "Mc Egg Burger for Happy Meal",
          "McSpicy Fried Chicken 1 pc",
          "6 piece Chicken McNuggets",
          "9 piece Chicken McNuggets",
          "3 piece Chicken Strips",
          "5 piece Chicken Strips",
          "Regular Fries",
          "Medium Fries",
          "Large Fries",
          "Medium Wedges",
          "Large Wedges",
          "Double Chocochips Muffin",
          "Vanilla Chocochips Muffin",
          "Veg McMuffin",
          "Double Cheese McMuffin",
          "Spicy Egg McMuffin",
          "Sausage Mc Muffin",
          "Sausage Mc Muffin with egg",
          "Egg McMuffin",
          "Hot Cake with maple syrup",
          "Cappuccino (L)",
          "Latte (L)",
          "Flat White (R)",
          "Flat White (L)",
          "Mocha (R)",
          "Mocha (L)",
          "Hot Chocolate (S)",
          "Hot Chocolate (R)",
          "Hot Chocolate (L)",
          "Premium Dark Hot Chocolate",
          "Double Dark Hot Chocolate",
          "Cold Coffee Frappe",
          "Mocha Frappe",
          "Chocolate Oreo Frappe",
          "Strawberry Shake",
          "Chocolate Shake",
          "Mango Smoothie",
          "Mixed Berry Smoothie",
          "American Mud Pie Shake",
          "Regular Soft Serve: Brownie with Hot Fudge",
          "Medium Soft Serve: Brownie with Hot Fudge",
          "Regular Blackforest",
          "Medium Blackforest",
          "Regular McFlurry - Oreo",
          "American Triple Cheese Chicken",
          "Piri piri Mc Spicy Chicken Burger",
          "Cheesy Veg Nuggets (6pc)",
          "Cheesy Veg Nuggets (9pc)",
          "Large Coca-Cola",
          "Large Fanta Oragne",
          "Large Sprite"
         ],
         "legendgroup": "media calorias",
         "marker": {
          "color": "#4b9ed6",
          "size": [
           13.83,
           11.31,
           15.08,
           11.44,
           15.7,
           14.16,
           19.36,
           22.94,
           14.02,
           9.32,
           12.27,
           12.21,
           14.29,
           14.3,
           21.46,
           18.57,
           28.54,
           10.39,
           14.7,
           20.77,
           9.79,
           13.55,
           17.28,
           15.46,
           11.78,
           12.82,
           11.81,
           10.81,
           15.94,
           12.31,
           14.02,
           12.03,
           12.82,
           12.02,
           14.02,
           9.91,
           12.01,
           7.77,
           8.76,
           12.84,
           5.96,
           6.32,
           14.73,
           15.01,
           18.89,
           7.44,
           7.7,
           3.63,
           3.59,
           12.77,
           5.45,
           7.46,
           5.47,
           9.76,
           6.81,
           22.65,
           17.3,
           13.09,
           19.63,
           0,
           0,
           0
          ],
          "sizemode": "area",
          "sizeref": 0.01255,
          "symbol": "circle"
         },
         "mode": "markers",
         "name": "media calorias",
         "orientation": "v",
         "showlegend": true,
         "type": "scatter",
         "x": [
          402,
          339,
          356,
          228,
          400,
          348,
          451,
          446,
          357,
          230,
          290,
          282,
          248,
          254,
          381,
          246,
          411,
          224,
          317,
          449,
          280,
          387,
          341,
          329,
          309,
          273,
          278,
          281,
          290,
          283,
          432,
          219,
          232,
          215,
          251,
          244,
          302,
          239,
          296,
          383,
          214,
          255,
          331,
          397,
          481,
          255,
          270,
          231,
          235,
          398,
          205,
          311,
          237,
          429,
          209,
          457,
          443,
          252,
          378,
          217,
          256,
          237
         ],
         "xaxis": "x",
         "y": [
          56,
          50,
          46,
          24,
          47,
          38,
          46,
          38,
          47,
          31,
          32,
          31,
          12,
          15,
          23,
          4,
          0,
          27,
          38,
          54,
          39,
          54,
          40,
          40,
          38,
          29,
          31,
          28,
          28,
          28,
          68,
          19,
          20,
          19,
          22,
          31,
          40,
          37,
          48,
          58,
          33,
          41,
          45,
          60,
          72,
          44,
          46,
          46,
          47,
          64,
          35,
          55,
          43,
          79,
          33,
          37,
          43,
          23,
          35,
          54,
          64,
          59
         ],
         "yaxis": "y"
        },
        {
         "hovertemplate": "<b>%{hovertext}</b><br><br>grupos=alta calorias<br>Energy (kCal)=%{x}<br>Total carbohydrate (g)=%{y}<br>Total fat (g)=%{marker.size}<extra></extra>",
         "hovertext": [
          "McSpicy™ Paneer Burger",
          "Spicy Paneer Wrap",
          "American Veg Burger",
          "Veg Maharaja Mac",
          "Spicy Chicken Wrap",
          "Chicken Maharaja Mac",
          "Ghee Rice with Mc Spicy Fried Chicken 1 pc",
          "American Triple Cheese Veg",
          "Cheese Lava Burger",
          "Chicken Cheese Lava Burger",
          "Chunky Chipotle American Burger Chicken",
          "McSpicy Premium Chicken Burger",
          "McSpicy Premium Veg Burger",
          "Piri piri Mc Spicy Veg Burger"
         ],
         "legendgroup": "alta calorias",
         "marker": {
          "color": "#c80004",
          "size": [
           39.45,
           39.1,
           23.45,
           37.94,
           26.89,
           36.69,
           29.2,
           23.16,
           33.48,
           45.18,
           31.51,
           34.65,
           39.21,
           24.53
          ],
          "sizemode": "area",
          "sizeref": 0.01255,
          "symbol": "circle"
         },
         "mode": "markers",
         "name": "alta calorias",
         "orientation": "v",
         "showlegend": true,
         "type": "scatter",
         "x": [
          652,
          674,
          512,
          832,
          567,
          689,
          720,
          524,
          671,
          834,
          641,
          622,
          634,
          517
         ],
         "xaxis": "x",
         "y": [
          52,
          59,
          56,
          93,
          57,
          55,
          77,
          56,
          74,
          76,
          46,
          43,
          46,
          58
         ],
         "yaxis": "y"
        },
        {
         "hovertemplate": "<b>%{hovertext}</b><br><br>grupos=baixa calorias<br>Energy (kCal)=%{x}<br>Total carbohydrate (g)=%{y}<br>Total fat (g)=%{marker.size}<extra></extra>",
         "hovertext": [
          "4 piece Chicken McNuggets",
          "2 piece Chicken Strips",
          "Regular Wedges",
          "L1 Coffee",
          "L1 Coffee with milk",
          "Hash Brown",
          "Espresso",
          "Espresso Machiato",
          "Americano (S)",
          "Americano (R)",
          "Americano (L)",
          "Cappuccino (S)",
          "Cappuccino (R)",
          "Latte (S)",
          "Latte (R)",
          "Flat White (S)",
          "Mocha (S)",
          "Babycino",
          "English Breakfast (S)",
          "English Breakfast (R)",
          "English Breakfast (L)",
          "Moroccon Mint Green Tea (S)",
          "Moroccon Mint Green Tea (R)",
          "Moroccon Mint Green Tea (L)",
          "Strawberry Green Tea (S)",
          "Strawberry Green Tea (R)",
          "Strawberry Green Tea (L)",
          "Lemon Ice Tea",
          "Strawberry Ice Tea",
          "Green Apple Ice Tea",
          "Iced Coffee",
          "Raw Mango Cooler",
          "Mix Berry Cooler",
          "Sweet Lime Beverage",
          "Iced Americano",
          "Soft serve cone",
          "McSwirl ChocoDip",
          "Regular Soft Serve: Hot Fudge",
          "Medium Soft Serve: Hot Fudge",
          "Regular Soft Serve: Strawberry",
          "Medium Soft Serve: Strawberry",
          "Small McFlurry - Oreo",
          "Small Coca-Cola",
          "Medium Coca-Cola",
          "Small Fanta Oragne",
          "Medium Fanta Orange",
          "Small Thums-up",
          "Medium Thums-up",
          "Large Thums-up",
          "Small Sprite",
          "Medium Sprite",
          "Coke Float",
          "Fanta Float",
          "Sprite Float",
          "Coke Zero Can",
          "Vedica Natural Mineral Water",
          "Mustard diping sauce",
          "BBQ diping sauce",
          "Chilli Sauce",
          "Piri Piri Mix",
          "Tomato Ketchup Sachets",
          "Maple Syrup",
          "Cheese Slice",
          "Sweet Corn",
          "Mixed Fruit Beverage"
         ],
         "legendgroup": "baixa calorias",
         "marker": {
          "color": "#06a843",
          "size": [
           9.54,
           12.38,
           7.15,
           0,
           2,
           7.32,
           0.03,
           2.02,
           0.03,
           0.05,
           0.06,
           7.01,
           10.02,
           8.41,
           10.42,
           9.6,
           8.2,
           4.38,
           0.28,
           0.33,
           0.46,
           0.28,
           0.33,
           0.46,
           0.28,
           0.33,
           0.46,
           0.17,
           0.16,
           0.16,
           4.45,
           0.04,
           0.04,
           0.08,
           3.57,
           1.82,
           7.14,
           4.02,
           6.87,
           1.77,
           2.36,
           3.7,
           0,
           0,
           0,
           0,
           0,
           0,
           0,
           0,
           0,
           1.75,
           1.75,
           1.75,
           0,
           0,
           5.57,
           0.49,
           0.01,
           0.36,
           23.45,
           0,
           3.99,
           1,
           0.02
          ],
          "sizemode": "area",
          "sizeref": 0.01255,
          "symbol": "circle"
         },
         "mode": "markers",
         "name": "baixa calorias",
         "orientation": "v",
         "showlegend": true,
         "type": "scatter",
         "x": [
          169,
          164,
          204,
          6,
          35,
          140,
          12,
          44,
          12,
          23,
          26,
          125,
          183,
          147,
          190,
          166,
          185,
          143,
          9,
          11,
          16,
          6,
          7,
          10,
          7,
          8,
          11,
          121,
          94,
          94,
          185,
          102,
          103,
          128,
          150,
          85,
          160,
          121,
          197,
          100,
          156,
          116,
          109,
          151,
          129,
          178,
          99,
          137,
          197,
          119,
          165,
          138,
          151,
          145,
          0,
          0,
          81,
          54,
          8,
          17,
          11,
          86,
          51,
          45,
          72
         ],
         "xaxis": "x",
         "y": [
          10,
          2,
          28,
          1,
          1,
          15,
          2,
          4,
          2,
          4,
          5,
          11,
          16,
          12,
          17,
          14,
          22,
          22,
          0,
          0,
          0,
          2,
          3,
          4,
          2,
          3,
          4,
          30,
          24,
          24,
          31,
          25,
          25,
          31,
          26,
          15,
          20,
          19,
          30,
          19,
          31,
          18,
          27,
          37,
          32,
          44,
          24,
          34,
          49,
          29,
          41,
          29,
          32,
          30,
          0,
          0,
          7,
          12,
          1,
          2,
          2,
          21,
          0,
          7,
          18
         ],
         "yaxis": "y"
        }
       ],
       "layout": {
        "legend": {
         "itemsizing": "constant",
         "title": {
          "text": "grupos"
         },
         "tracegroupgap": 0
        },
        "margin": {
         "t": 60
        },
        "template": {
         "data": {
          "bar": [
           {
            "error_x": {
             "color": "#f2f5fa"
            },
            "error_y": {
             "color": "#f2f5fa"
            },
            "marker": {
             "line": {
              "color": "rgb(17,17,17)",
              "width": 0.5
             },
             "pattern": {
              "fillmode": "overlay",
              "size": 10,
              "solidity": 0.2
             }
            },
            "type": "bar"
           }
          ],
          "barpolar": [
           {
            "marker": {
             "line": {
              "color": "rgb(17,17,17)",
              "width": 0.5
             },
             "pattern": {
              "fillmode": "overlay",
              "size": 10,
              "solidity": 0.2
             }
            },
            "type": "barpolar"
           }
          ],
          "carpet": [
           {
            "aaxis": {
             "endlinecolor": "#A2B1C6",
             "gridcolor": "#506784",
             "linecolor": "#506784",
             "minorgridcolor": "#506784",
             "startlinecolor": "#A2B1C6"
            },
            "baxis": {
             "endlinecolor": "#A2B1C6",
             "gridcolor": "#506784",
             "linecolor": "#506784",
             "minorgridcolor": "#506784",
             "startlinecolor": "#A2B1C6"
            },
            "type": "carpet"
           }
          ],
          "choropleth": [
           {
            "colorbar": {
             "outlinewidth": 0,
             "ticks": ""
            },
            "type": "choropleth"
           }
          ],
          "contour": [
           {
            "colorbar": {
             "outlinewidth": 0,
             "ticks": ""
            },
            "colorscale": [
             [
              0,
              "#0d0887"
             ],
             [
              0.1111111111111111,
              "#46039f"
             ],
             [
              0.2222222222222222,
              "#7201a8"
             ],
             [
              0.3333333333333333,
              "#9c179e"
             ],
             [
              0.4444444444444444,
              "#bd3786"
             ],
             [
              0.5555555555555556,
              "#d8576b"
             ],
             [
              0.6666666666666666,
              "#ed7953"
             ],
             [
              0.7777777777777778,
              "#fb9f3a"
             ],
             [
              0.8888888888888888,
              "#fdca26"
             ],
             [
              1,
              "#f0f921"
             ]
            ],
            "type": "contour"
           }
          ],
          "contourcarpet": [
           {
            "colorbar": {
             "outlinewidth": 0,
             "ticks": ""
            },
            "type": "contourcarpet"
           }
          ],
          "heatmap": [
           {
            "colorbar": {
             "outlinewidth": 0,
             "ticks": ""
            },
            "colorscale": [
             [
              0,
              "#0d0887"
             ],
             [
              0.1111111111111111,
              "#46039f"
             ],
             [
              0.2222222222222222,
              "#7201a8"
             ],
             [
              0.3333333333333333,
              "#9c179e"
             ],
             [
              0.4444444444444444,
              "#bd3786"
             ],
             [
              0.5555555555555556,
              "#d8576b"
             ],
             [
              0.6666666666666666,
              "#ed7953"
             ],
             [
              0.7777777777777778,
              "#fb9f3a"
             ],
             [
              0.8888888888888888,
              "#fdca26"
             ],
             [
              1,
              "#f0f921"
             ]
            ],
            "type": "heatmap"
           }
          ],
          "heatmapgl": [
           {
            "colorbar": {
             "outlinewidth": 0,
             "ticks": ""
            },
            "colorscale": [
             [
              0,
              "#0d0887"
             ],
             [
              0.1111111111111111,
              "#46039f"
             ],
             [
              0.2222222222222222,
              "#7201a8"
             ],
             [
              0.3333333333333333,
              "#9c179e"
             ],
             [
              0.4444444444444444,
              "#bd3786"
             ],
             [
              0.5555555555555556,
              "#d8576b"
             ],
             [
              0.6666666666666666,
              "#ed7953"
             ],
             [
              0.7777777777777778,
              "#fb9f3a"
             ],
             [
              0.8888888888888888,
              "#fdca26"
             ],
             [
              1,
              "#f0f921"
             ]
            ],
            "type": "heatmapgl"
           }
          ],
          "histogram": [
           {
            "marker": {
             "pattern": {
              "fillmode": "overlay",
              "size": 10,
              "solidity": 0.2
             }
            },
            "type": "histogram"
           }
          ],
          "histogram2d": [
           {
            "colorbar": {
             "outlinewidth": 0,
             "ticks": ""
            },
            "colorscale": [
             [
              0,
              "#0d0887"
             ],
             [
              0.1111111111111111,
              "#46039f"
             ],
             [
              0.2222222222222222,
              "#7201a8"
             ],
             [
              0.3333333333333333,
              "#9c179e"
             ],
             [
              0.4444444444444444,
              "#bd3786"
             ],
             [
              0.5555555555555556,
              "#d8576b"
             ],
             [
              0.6666666666666666,
              "#ed7953"
             ],
             [
              0.7777777777777778,
              "#fb9f3a"
             ],
             [
              0.8888888888888888,
              "#fdca26"
             ],
             [
              1,
              "#f0f921"
             ]
            ],
            "type": "histogram2d"
           }
          ],
          "histogram2dcontour": [
           {
            "colorbar": {
             "outlinewidth": 0,
             "ticks": ""
            },
            "colorscale": [
             [
              0,
              "#0d0887"
             ],
             [
              0.1111111111111111,
              "#46039f"
             ],
             [
              0.2222222222222222,
              "#7201a8"
             ],
             [
              0.3333333333333333,
              "#9c179e"
             ],
             [
              0.4444444444444444,
              "#bd3786"
             ],
             [
              0.5555555555555556,
              "#d8576b"
             ],
             [
              0.6666666666666666,
              "#ed7953"
             ],
             [
              0.7777777777777778,
              "#fb9f3a"
             ],
             [
              0.8888888888888888,
              "#fdca26"
             ],
             [
              1,
              "#f0f921"
             ]
            ],
            "type": "histogram2dcontour"
           }
          ],
          "mesh3d": [
           {
            "colorbar": {
             "outlinewidth": 0,
             "ticks": ""
            },
            "type": "mesh3d"
           }
          ],
          "parcoords": [
           {
            "line": {
             "colorbar": {
              "outlinewidth": 0,
              "ticks": ""
             }
            },
            "type": "parcoords"
           }
          ],
          "pie": [
           {
            "automargin": true,
            "type": "pie"
           }
          ],
          "scatter": [
           {
            "marker": {
             "line": {
              "color": "#060606"
             }
            },
            "type": "scatter"
           }
          ],
          "scatter3d": [
           {
            "line": {
             "colorbar": {
              "outlinewidth": 0,
              "ticks": ""
             }
            },
            "marker": {
             "colorbar": {
              "outlinewidth": 0,
              "ticks": ""
             }
            },
            "type": "scatter3d"
           }
          ],
          "scattercarpet": [
           {
            "marker": {
             "colorbar": {
              "outlinewidth": 0,
              "ticks": ""
             }
            },
            "type": "scattercarpet"
           }
          ],
          "scattergeo": [
           {
            "marker": {
             "colorbar": {
              "outlinewidth": 0,
              "ticks": ""
             }
            },
            "type": "scattergeo"
           }
          ],
          "scattergl": [
           {
            "marker": {
             "line": {
              "color": "#060606"
             }
            },
            "type": "scattergl"
           }
          ],
          "scattermapbox": [
           {
            "marker": {
             "colorbar": {
              "outlinewidth": 0,
              "ticks": ""
             }
            },
            "type": "scattermapbox"
           }
          ],
          "scatterpolar": [
           {
            "marker": {
             "colorbar": {
              "outlinewidth": 0,
              "ticks": ""
             }
            },
            "type": "scatterpolar"
           }
          ],
          "scatterpolargl": [
           {
            "marker": {
             "colorbar": {
              "outlinewidth": 0,
              "ticks": ""
             }
            },
            "type": "scatterpolargl"
           }
          ],
          "scatterternary": [
           {
            "marker": {
             "colorbar": {
              "outlinewidth": 0,
              "ticks": ""
             }
            },
            "type": "scatterternary"
           }
          ],
          "surface": [
           {
            "colorbar": {
             "outlinewidth": 0,
             "ticks": ""
            },
            "colorscale": [
             [
              0,
              "#0d0887"
             ],
             [
              0.1111111111111111,
              "#46039f"
             ],
             [
              0.2222222222222222,
              "#7201a8"
             ],
             [
              0.3333333333333333,
              "#9c179e"
             ],
             [
              0.4444444444444444,
              "#bd3786"
             ],
             [
              0.5555555555555556,
              "#d8576b"
             ],
             [
              0.6666666666666666,
              "#ed7953"
             ],
             [
              0.7777777777777778,
              "#fb9f3a"
             ],
             [
              0.8888888888888888,
              "#fdca26"
             ],
             [
              1,
              "#f0f921"
             ]
            ],
            "type": "surface"
           }
          ],
          "table": [
           {
            "cells": {
             "fill": {
              "color": "#506784"
             },
             "line": {
              "color": "rgb(17,17,17)"
             }
            },
            "header": {
             "fill": {
              "color": "#2a3f5f"
             },
             "line": {
              "color": "rgb(17,17,17)"
             }
            },
            "type": "table"
           }
          ]
         },
         "layout": {
          "annotationdefaults": {
           "arrowcolor": "#f2f5fa",
           "arrowhead": 0,
           "arrowwidth": 1,
           "font": {
            "color": "#adafae"
           }
          },
          "autotypenumbers": "strict",
          "coloraxis": {
           "colorbar": {
            "outlinewidth": 0,
            "ticks": ""
           }
          },
          "colorscale": {
           "diverging": [
            [
             0,
             "#8e0152"
            ],
            [
             0.1,
             "#c51b7d"
            ],
            [
             0.2,
             "#de77ae"
            ],
            [
             0.3,
             "#f1b6da"
            ],
            [
             0.4,
             "#fde0ef"
            ],
            [
             0.5,
             "#f7f7f7"
            ],
            [
             0.6,
             "#e6f5d0"
            ],
            [
             0.7,
             "#b8e186"
            ],
            [
             0.8,
             "#7fbc41"
            ],
            [
             0.9,
             "#4d9221"
            ],
            [
             1,
             "#276419"
            ]
           ],
           "sequential": [
            [
             0,
             "#2a9fd6"
            ],
            [
             0.1,
             "#4098c6"
            ],
            [
             0.2,
             "#5790b6"
            ],
            [
             0.30000000000000004,
             "#6d89a6"
            ],
            [
             0.4,
             "#838196"
            ],
            [
             0.5,
             "#9a7a86"
            ],
            [
             0.6000000000000001,
             "#b07276"
            ],
            [
             0.7000000000000001,
             "#c66b66"
            ],
            [
             0.8,
             "#dd6456"
            ],
            [
             0.9,
             "#f35c46"
            ],
            [
             1,
             "#ff5536"
            ]
           ],
           "sequentialminus": [
            [
             0,
             "#0d0887"
            ],
            [
             0.1111111111111111,
             "#46039f"
            ],
            [
             0.2222222222222222,
             "#7201a8"
            ],
            [
             0.3333333333333333,
             "#9c179e"
            ],
            [
             0.4444444444444444,
             "#bd3786"
            ],
            [
             0.5555555555555556,
             "#d8576b"
            ],
            [
             0.6666666666666666,
             "#ed7953"
            ],
            [
             0.7777777777777778,
             "#fb9f3a"
            ],
            [
             0.8888888888888888,
             "#fdca26"
            ],
            [
             1,
             "#f0f921"
            ]
           ]
          },
          "colorway": [
           "#4b9ed6",
           "#c80004",
           "#06a843",
           "#ff9d24",
           "#a32acd"
          ],
          "font": {
           "color": "#adafae",
           "family": "Roboto,-apple-system,BlinkMacSystemFont,\"Segoe UI\",\"Helvetica Neue\",Arial,sans-serif"
          },
          "geo": {
           "bgcolor": "#060606",
           "lakecolor": "#060606",
           "landcolor": "#060606",
           "showlakes": true,
           "showland": true,
           "subunitcolor": "#506784"
          },
          "hoverlabel": {
           "align": "left",
           "font": {
            "family": "Roboto,-apple-system,BlinkMacSystemFont,\"Segoe UI\",\"Helvetica Neue\",Arial,sans-serif"
           }
          },
          "hovermode": "closest",
          "mapbox": {
           "style": "dark"
          },
          "paper_bgcolor": "#282828",
          "piecolorway": [
           "#4b9ed6",
           "#c80004",
           "#06a843",
           "#ff9d24",
           "#a32acd"
          ],
          "plot_bgcolor": "#060606",
          "polar": {
           "angularaxis": {
            "gridcolor": "#506784",
            "linecolor": "#506784",
            "ticks": ""
           },
           "bgcolor": "rgb(17,17,17)",
           "radialaxis": {
            "gridcolor": "#506784",
            "linecolor": "#506784",
            "ticks": ""
           }
          },
          "scene": {
           "xaxis": {
            "backgroundcolor": "rgb(17,17,17)",
            "gridcolor": "#506784",
            "gridwidth": 2,
            "linecolor": "#506784",
            "showbackground": true,
            "ticks": "",
            "zerolinecolor": "#C8D4E3"
           },
           "yaxis": {
            "backgroundcolor": "rgb(17,17,17)",
            "gridcolor": "#506784",
            "gridwidth": 2,
            "linecolor": "#506784",
            "showbackground": true,
            "ticks": "",
            "zerolinecolor": "#C8D4E3"
           },
           "zaxis": {
            "backgroundcolor": "rgb(17,17,17)",
            "gridcolor": "#506784",
            "gridwidth": 2,
            "linecolor": "#506784",
            "showbackground": true,
            "ticks": "",
            "zerolinecolor": "#C8D4E3"
           }
          },
          "shapedefaults": {
           "line": {
            "color": "#f2f5fa"
           }
          },
          "sliderdefaults": {
           "bgcolor": "#C8D4E3",
           "bordercolor": "rgb(17,17,17)",
           "borderwidth": 1,
           "tickwidth": 0
          },
          "ternary": {
           "aaxis": {
            "gridcolor": "#506784",
            "linecolor": "#506784",
            "ticks": ""
           },
           "baxis": {
            "gridcolor": "#506784",
            "linecolor": "#506784",
            "ticks": ""
           },
           "bgcolor": "rgb(17,17,17)",
           "caxis": {
            "gridcolor": "#506784",
            "linecolor": "#506784",
            "ticks": ""
           }
          },
          "title": {
           "x": 0.05
          },
          "updatemenudefaults": {
           "bgcolor": "#506784",
           "borderwidth": 0
          },
          "xaxis": {
           "automargin": true,
           "gridcolor": "#131413",
           "gridwidth": 0.5,
           "linecolor": "#506784",
           "ticks": "",
           "title": {
            "standoff": 15
           },
           "zerolinecolor": "#131413",
           "zerolinewidth": 2
          },
          "yaxis": {
           "automargin": true,
           "gridcolor": "#131413",
           "gridwidth": 0.5,
           "linecolor": "#506784",
           "ticks": "",
           "title": {
            "standoff": 15
           },
           "zerolinecolor": "#131413",
           "zerolinewidth": 2
          }
         }
        },
        "xaxis": {
         "anchor": "y",
         "domain": [
          0,
          1
         ],
         "title": {
          "text": "Energy (kCal)"
         },
         "type": "log"
        },
        "yaxis": {
         "anchor": "x",
         "domain": [
          0,
          1
         ],
         "title": {
          "text": "Total carbohydrate (g)"
         }
        }
       }
      }
     },
     "metadata": {},
     "output_type": "display_data"
    }
   ],
   "source": [
    "px.scatter(tabela, x='Energy (kCal)', y='Total carbohydrate (g)',size='Total fat (g)',template='cyborg'\n",
    "           , color='grupos',hover_name='Menu Items', log_x=True, size_max=60)"
   ]
  },
  {
   "cell_type": "code",
   "execution_count": 24,
   "id": "cd90f718",
   "metadata": {},
   "outputs": [
    {
     "data": {
      "text/html": [
       "<div>\n",
       "<style scoped>\n",
       "    .dataframe tbody tr th:only-of-type {\n",
       "        vertical-align: middle;\n",
       "    }\n",
       "\n",
       "    .dataframe tbody tr th {\n",
       "        vertical-align: top;\n",
       "    }\n",
       "\n",
       "    .dataframe thead th {\n",
       "        text-align: right;\n",
       "    }\n",
       "</style>\n",
       "<table border=\"1\" class=\"dataframe\">\n",
       "  <thead>\n",
       "    <tr style=\"text-align: right;\">\n",
       "      <th></th>\n",
       "      <th>Menu Category</th>\n",
       "      <th>Menu Items</th>\n",
       "      <th>Per Serve Size</th>\n",
       "      <th>Energy (kCal)</th>\n",
       "      <th>Protein (g)</th>\n",
       "      <th>Total fat (g)</th>\n",
       "      <th>Sat Fat (g)</th>\n",
       "      <th>Trans fat (g)</th>\n",
       "      <th>Cholesterols (mg)</th>\n",
       "      <th>Total carbohydrate (g)</th>\n",
       "      <th>Total Sugars (g)</th>\n",
       "      <th>Added Sugars (g)</th>\n",
       "      <th>Sodium (mg)</th>\n",
       "      <th>grupos</th>\n",
       "    </tr>\n",
       "  </thead>\n",
       "  <tbody>\n",
       "    <tr>\n",
       "      <th>0</th>\n",
       "      <td>Regular Menu</td>\n",
       "      <td>McVeggie™ Burger</td>\n",
       "      <td>168 g</td>\n",
       "      <td>402</td>\n",
       "      <td>10.24</td>\n",
       "      <td>13.83</td>\n",
       "      <td>5.34</td>\n",
       "      <td>0.16</td>\n",
       "      <td>2.49</td>\n",
       "      <td>56</td>\n",
       "      <td>7.9</td>\n",
       "      <td>4.49</td>\n",
       "      <td>706</td>\n",
       "      <td>media calorias</td>\n",
       "    </tr>\n",
       "  </tbody>\n",
       "</table>\n",
       "</div>"
      ],
      "text/plain": [
       "  Menu Category        Menu Items Per Serve Size  Energy (kCal)  Protein (g)  \\\n",
       "0  Regular Menu  McVeggie™ Burger          168 g            402        10.24   \n",
       "\n",
       "   Total fat (g)  Sat Fat (g)  Trans fat (g)  Cholesterols (mg)  \\\n",
       "0          13.83         5.34           0.16               2.49   \n",
       "\n",
       "   Total carbohydrate (g)  Total Sugars (g)  Added Sugars (g)  Sodium (mg)  \\\n",
       "0                      56               7.9              4.49          706   \n",
       "\n",
       "           grupos  \n",
       "0  media calorias  "
      ]
     },
     "execution_count": 24,
     "metadata": {},
     "output_type": "execute_result"
    }
   ],
   "source": [
    "tabela.head(1)"
   ]
  },
  {
   "cell_type": "code",
   "execution_count": 25,
   "id": "a5aa367a",
   "metadata": {},
   "outputs": [],
   "source": [
    "def cardapio(Menu_Category,grupos):\n",
    "    filtro = tabela.loc[(tabela['Menu Category'] == Menu_Category) & (tabela['grupos'] == grupos)]\n",
    "    display(filtro[['Menu Items','Per Serve Size', 'Energy (kCal)']])"
   ]
  },
  {
   "cell_type": "code",
   "execution_count": 26,
   "id": "53921ff4",
   "metadata": {},
   "outputs": [
    {
     "data": {
      "text/html": [
       "<div>\n",
       "<style scoped>\n",
       "    .dataframe tbody tr th:only-of-type {\n",
       "        vertical-align: middle;\n",
       "    }\n",
       "\n",
       "    .dataframe tbody tr th {\n",
       "        vertical-align: top;\n",
       "    }\n",
       "\n",
       "    .dataframe thead th {\n",
       "        text-align: right;\n",
       "    }\n",
       "</style>\n",
       "<table border=\"1\" class=\"dataframe\">\n",
       "  <thead>\n",
       "    <tr style=\"text-align: right;\">\n",
       "      <th></th>\n",
       "      <th>Menu Items</th>\n",
       "      <th>Per Serve Size</th>\n",
       "      <th>Energy (kCal)</th>\n",
       "    </tr>\n",
       "  </thead>\n",
       "  <tbody>\n",
       "    <tr>\n",
       "      <th>20</th>\n",
       "      <td>4 piece Chicken McNuggets</td>\n",
       "      <td>64 g</td>\n",
       "      <td>169</td>\n",
       "    </tr>\n",
       "    <tr>\n",
       "      <th>23</th>\n",
       "      <td>2 piece Chicken Strips</td>\n",
       "      <td>58 g</td>\n",
       "      <td>164</td>\n",
       "    </tr>\n",
       "    <tr>\n",
       "      <th>29</th>\n",
       "      <td>Regular Wedges</td>\n",
       "      <td>114 g</td>\n",
       "      <td>204</td>\n",
       "    </tr>\n",
       "    <tr>\n",
       "      <th>32</th>\n",
       "      <td>L1 Coffee</td>\n",
       "      <td>200 ml</td>\n",
       "      <td>6</td>\n",
       "    </tr>\n",
       "    <tr>\n",
       "      <th>33</th>\n",
       "      <td>L1 Coffee with milk</td>\n",
       "      <td>205 ml</td>\n",
       "      <td>35</td>\n",
       "    </tr>\n",
       "  </tbody>\n",
       "</table>\n",
       "</div>"
      ],
      "text/plain": [
       "                   Menu Items Per Serve Size  Energy (kCal)\n",
       "20  4 piece Chicken McNuggets           64 g            169\n",
       "23     2 piece Chicken Strips           58 g            164\n",
       "29             Regular Wedges          114 g            204\n",
       "32                  L1 Coffee         200 ml              6\n",
       "33        L1 Coffee with milk         205 ml             35"
      ]
     },
     "metadata": {},
     "output_type": "display_data"
    }
   ],
   "source": [
    "cardapio('Regular Menu' , 'baixa calorias')"
   ]
  },
  {
   "cell_type": "code",
   "execution_count": 27,
   "id": "eadc5131",
   "metadata": {},
   "outputs": [],
   "source": [
    "from sklearn.preprocessing import LabelEncoder\n",
    "Label_Encoder = LabelEncoder()"
   ]
  },
  {
   "cell_type": "code",
   "execution_count": 28,
   "id": "fd12b6aa",
   "metadata": {},
   "outputs": [],
   "source": [
    "def cardapio1():\n",
    "    dados1 = tabela.get('Menu Category')\n",
    "    dados2 = tabela.get('grupos')\n",
    "    dados3 = Label_Encoder.fit_transform(dados1)\n",
    "    dados4 = Label_Encoder.fit_transform(dados2)\n",
    "    tabela['categoria'] = dados4\n",
    "    tabela['cardapio'] =  dados3\n",
    "    \n",
    "    print('digite uma das opçoes \\n0 = Beverages Menu\\n1 = Breakfast Menu \\n2 = Condiments Menu \\n3 = Desserts Menu \\n4 = Gourmet Menu \\n5 = McCafe Menu \\n6 = Regular Menu')\n",
    "    \n",
    "    opçoes_menu = int(input())\n",
    "\n",
    "    print()\n",
    "\n",
    "    print('digite uma das opçoes \\n1 = baixa calorias\\n2 = media calorias\\n0 = alta calorias')\n",
    "\n",
    "    quantidade_cal = int(input())\n",
    "    \n",
    "    filtro = tabela.loc[(tabela['cardapio'] == opçoes_menu) & (tabela['categoria'] == quantidade_cal)]\n",
    "\n",
    "    display(filtro[['Menu Items','Per Serve Size', 'Energy (kCal)']].sort_values('Energy (kCal)').style.hide_index())"
   ]
  },
  {
   "cell_type": "code",
   "execution_count": 32,
   "id": "f64fe0f3",
   "metadata": {},
   "outputs": [
    {
     "name": "stdout",
     "output_type": "stream",
     "text": [
      "digite uma das opçoes \n",
      "0 = Beverages Menu\n",
      "1 = Breakfast Menu \n",
      "2 = Condiments Menu \n",
      "3 = Desserts Menu \n",
      "4 = Gourmet Menu \n",
      "5 = McCafe Menu \n",
      "6 = Regular Menu\n",
      "\n",
      "digite uma das opçoes \n",
      "1 = baixa calorias\n",
      "2 = media calorias\n",
      "0 = alta calorias\n"
     ]
    },
    {
     "data": {
      "text/html": [
       "<style type=\"text/css\">\n",
       "</style>\n",
       "<table id=\"T_0fe4b\">\n",
       "  <thead>\n",
       "    <tr>\n",
       "      <th id=\"T_0fe4b_level0_col0\" class=\"col_heading level0 col0\" >Menu Items</th>\n",
       "      <th id=\"T_0fe4b_level0_col1\" class=\"col_heading level0 col1\" >Per Serve Size</th>\n",
       "      <th id=\"T_0fe4b_level0_col2\" class=\"col_heading level0 col2\" >Energy (kCal)</th>\n",
       "    </tr>\n",
       "  </thead>\n",
       "  <tbody>\n",
       "    <tr>\n",
       "      <td id=\"T_0fe4b_row0_col0\" class=\"data row0 col0\" >Double Cheese McMuffin</td>\n",
       "      <td id=\"T_0fe4b_row0_col1\" class=\"data row0 col1\" >100 g</td>\n",
       "      <td id=\"T_0fe4b_row0_col2\" class=\"data row0 col2\" >273</td>\n",
       "    </tr>\n",
       "    <tr>\n",
       "      <td id=\"T_0fe4b_row1_col0\" class=\"data row1 col0\" >Spicy Egg McMuffin</td>\n",
       "      <td id=\"T_0fe4b_row1_col1\" class=\"data row1 col1\" >123.2 g</td>\n",
       "      <td id=\"T_0fe4b_row1_col2\" class=\"data row1 col2\" >278</td>\n",
       "    </tr>\n",
       "    <tr>\n",
       "      <td id=\"T_0fe4b_row2_col0\" class=\"data row2 col0\" >Sausage Mc Muffin</td>\n",
       "      <td id=\"T_0fe4b_row2_col1\" class=\"data row2 col1\" >112 g</td>\n",
       "      <td id=\"T_0fe4b_row2_col2\" class=\"data row2 col2\" >281</td>\n",
       "    </tr>\n",
       "    <tr>\n",
       "      <td id=\"T_0fe4b_row3_col0\" class=\"data row3 col0\" >Egg McMuffin</td>\n",
       "      <td id=\"T_0fe4b_row3_col1\" class=\"data row3 col1\" >112 g</td>\n",
       "      <td id=\"T_0fe4b_row3_col2\" class=\"data row3 col2\" >283</td>\n",
       "    </tr>\n",
       "    <tr>\n",
       "      <td id=\"T_0fe4b_row4_col0\" class=\"data row4 col0\" >Sausage Mc Muffin with egg</td>\n",
       "      <td id=\"T_0fe4b_row4_col1\" class=\"data row4 col1\" >157 g</td>\n",
       "      <td id=\"T_0fe4b_row4_col2\" class=\"data row4 col2\" >290</td>\n",
       "    </tr>\n",
       "    <tr>\n",
       "      <td id=\"T_0fe4b_row5_col0\" class=\"data row5 col0\" >Veg McMuffin</td>\n",
       "      <td id=\"T_0fe4b_row5_col1\" class=\"data row5 col1\" >119 g</td>\n",
       "      <td id=\"T_0fe4b_row5_col2\" class=\"data row5 col2\" >309</td>\n",
       "    </tr>\n",
       "    <tr>\n",
       "      <td id=\"T_0fe4b_row6_col0\" class=\"data row6 col0\" >Hot Cake with maple syrup</td>\n",
       "      <td id=\"T_0fe4b_row6_col1\" class=\"data row6 col1\" >142 g</td>\n",
       "      <td id=\"T_0fe4b_row6_col2\" class=\"data row6 col2\" >432</td>\n",
       "    </tr>\n",
       "  </tbody>\n",
       "</table>\n"
      ],
      "text/plain": [
       "<pandas.io.formats.style.Styler at 0x26cfbac4580>"
      ]
     },
     "metadata": {},
     "output_type": "display_data"
    }
   ],
   "source": [
    "cardapio1()\n"
   ]
  },
  {
   "cell_type": "code",
   "execution_count": 30,
   "id": "cb2293c9",
   "metadata": {},
   "outputs": [
    {
     "data": {
      "text/html": [
       "<div>\n",
       "<style scoped>\n",
       "    .dataframe tbody tr th:only-of-type {\n",
       "        vertical-align: middle;\n",
       "    }\n",
       "\n",
       "    .dataframe tbody tr th {\n",
       "        vertical-align: top;\n",
       "    }\n",
       "\n",
       "    .dataframe thead th {\n",
       "        text-align: right;\n",
       "    }\n",
       "</style>\n",
       "<table border=\"1\" class=\"dataframe\">\n",
       "  <thead>\n",
       "    <tr style=\"text-align: right;\">\n",
       "      <th></th>\n",
       "      <th>Menu Category</th>\n",
       "      <th>Menu Items</th>\n",
       "      <th>Per Serve Size</th>\n",
       "      <th>Energy (kCal)</th>\n",
       "      <th>Protein (g)</th>\n",
       "      <th>Total fat (g)</th>\n",
       "      <th>Sat Fat (g)</th>\n",
       "      <th>Trans fat (g)</th>\n",
       "      <th>Cholesterols (mg)</th>\n",
       "      <th>Total carbohydrate (g)</th>\n",
       "      <th>Total Sugars (g)</th>\n",
       "      <th>Added Sugars (g)</th>\n",
       "      <th>Sodium (mg)</th>\n",
       "      <th>grupos</th>\n",
       "      <th>categoria</th>\n",
       "      <th>cardapio</th>\n",
       "    </tr>\n",
       "  </thead>\n",
       "  <tbody>\n",
       "    <tr>\n",
       "      <th>0</th>\n",
       "      <td>Regular Menu</td>\n",
       "      <td>McVeggie™ Burger</td>\n",
       "      <td>168 g</td>\n",
       "      <td>402</td>\n",
       "      <td>10.24</td>\n",
       "      <td>13.83</td>\n",
       "      <td>5.34</td>\n",
       "      <td>0.16</td>\n",
       "      <td>2.49</td>\n",
       "      <td>56</td>\n",
       "      <td>7.90</td>\n",
       "      <td>4.49</td>\n",
       "      <td>706</td>\n",
       "      <td>media calorias</td>\n",
       "      <td>2</td>\n",
       "      <td>6</td>\n",
       "    </tr>\n",
       "    <tr>\n",
       "      <th>1</th>\n",
       "      <td>Regular Menu</td>\n",
       "      <td>McAloo Tikki Burger®</td>\n",
       "      <td>146 g</td>\n",
       "      <td>339</td>\n",
       "      <td>8.50</td>\n",
       "      <td>11.31</td>\n",
       "      <td>4.27</td>\n",
       "      <td>0.20</td>\n",
       "      <td>1.47</td>\n",
       "      <td>50</td>\n",
       "      <td>7.05</td>\n",
       "      <td>4.07</td>\n",
       "      <td>545</td>\n",
       "      <td>media calorias</td>\n",
       "      <td>2</td>\n",
       "      <td>6</td>\n",
       "    </tr>\n",
       "    <tr>\n",
       "      <th>2</th>\n",
       "      <td>Regular Menu</td>\n",
       "      <td>McSpicy™ Paneer Burger</td>\n",
       "      <td>199 g</td>\n",
       "      <td>652</td>\n",
       "      <td>20.29</td>\n",
       "      <td>39.45</td>\n",
       "      <td>17.12</td>\n",
       "      <td>0.18</td>\n",
       "      <td>21.85</td>\n",
       "      <td>52</td>\n",
       "      <td>8.35</td>\n",
       "      <td>5.27</td>\n",
       "      <td>1074</td>\n",
       "      <td>alta calorias</td>\n",
       "      <td>0</td>\n",
       "      <td>6</td>\n",
       "    </tr>\n",
       "    <tr>\n",
       "      <th>3</th>\n",
       "      <td>Regular Menu</td>\n",
       "      <td>Spicy Paneer Wrap</td>\n",
       "      <td>250 g</td>\n",
       "      <td>674</td>\n",
       "      <td>20.96</td>\n",
       "      <td>39.10</td>\n",
       "      <td>19.73</td>\n",
       "      <td>0.26</td>\n",
       "      <td>40.93</td>\n",
       "      <td>59</td>\n",
       "      <td>3.50</td>\n",
       "      <td>1.08</td>\n",
       "      <td>1087</td>\n",
       "      <td>alta calorias</td>\n",
       "      <td>0</td>\n",
       "      <td>6</td>\n",
       "    </tr>\n",
       "    <tr>\n",
       "      <th>4</th>\n",
       "      <td>Regular Menu</td>\n",
       "      <td>American Veg Burger</td>\n",
       "      <td>177 g</td>\n",
       "      <td>512</td>\n",
       "      <td>15.30</td>\n",
       "      <td>23.45</td>\n",
       "      <td>10.51</td>\n",
       "      <td>0.17</td>\n",
       "      <td>25.24</td>\n",
       "      <td>56</td>\n",
       "      <td>7.85</td>\n",
       "      <td>4.76</td>\n",
       "      <td>1051</td>\n",
       "      <td>alta calorias</td>\n",
       "      <td>0</td>\n",
       "      <td>6</td>\n",
       "    </tr>\n",
       "  </tbody>\n",
       "</table>\n",
       "</div>"
      ],
      "text/plain": [
       "  Menu Category              Menu Items Per Serve Size  Energy (kCal)  \\\n",
       "0  Regular Menu        McVeggie™ Burger          168 g            402   \n",
       "1  Regular Menu    McAloo Tikki Burger®          146 g            339   \n",
       "2  Regular Menu  McSpicy™ Paneer Burger          199 g            652   \n",
       "3  Regular Menu       Spicy Paneer Wrap          250 g            674   \n",
       "4  Regular Menu     American Veg Burger          177 g            512   \n",
       "\n",
       "   Protein (g)  Total fat (g)  Sat Fat (g)  Trans fat (g)  Cholesterols (mg)  \\\n",
       "0        10.24          13.83         5.34           0.16               2.49   \n",
       "1         8.50          11.31         4.27           0.20               1.47   \n",
       "2        20.29          39.45        17.12           0.18              21.85   \n",
       "3        20.96          39.10        19.73           0.26              40.93   \n",
       "4        15.30          23.45        10.51           0.17              25.24   \n",
       "\n",
       "   Total carbohydrate (g)  Total Sugars (g)  Added Sugars (g)  Sodium (mg)  \\\n",
       "0                      56              7.90              4.49          706   \n",
       "1                      50              7.05              4.07          545   \n",
       "2                      52              8.35              5.27         1074   \n",
       "3                      59              3.50              1.08         1087   \n",
       "4                      56              7.85              4.76         1051   \n",
       "\n",
       "           grupos  categoria  cardapio  \n",
       "0  media calorias          2         6  \n",
       "1  media calorias          2         6  \n",
       "2   alta calorias          0         6  \n",
       "3   alta calorias          0         6  \n",
       "4   alta calorias          0         6  "
      ]
     },
     "execution_count": 30,
     "metadata": {},
     "output_type": "execute_result"
    }
   ],
   "source": [
    "tabela.head(5)"
   ]
  },
  {
   "cell_type": "code",
   "execution_count": null,
   "metadata": {},
   "outputs": [],
   "source": []
  }
 ],
 "metadata": {
  "kernelspec": {
   "display_name": "Python 3.10.5 64-bit",
   "language": "python",
   "name": "python3"
  },
  "language_info": {
   "codemirror_mode": {
    "name": "ipython",
    "version": 3
   },
   "file_extension": ".py",
   "mimetype": "text/x-python",
   "name": "python",
   "nbconvert_exporter": "python",
   "pygments_lexer": "ipython3",
   "version": "3.10.5"
  },
  "vscode": {
   "interpreter": {
    "hash": "d90312a38fc1d0a22e54075737e7cbc9c4bce8201c3fcbae88019b0c90a84f0b"
   }
  }
 },
 "nbformat": 4,
 "nbformat_minor": 5
}
